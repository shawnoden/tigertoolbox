{
    "metadata": {
        "kernelspec": {
            "name": "python3",
            "display_name": "Python 3"
        },
        "language_info": {
            "name": "python",
            "version": "3.6.6",
            "mimetype": "text/x-python",
            "codemirror_mode": {
                "name": "ipython",
                "version": 3
            },
            "pygments_lexer": "ipython3",
            "nbconvert_exporter": "python",
            "file_extension": ".py"
        }
    },
    "nbformat_minor": 2,
    "nbformat": 4,
    "cells": [
        {
            "cell_type": "markdown",
            "source": [
                "Add Azure Passive Secondary Replica\n",
                "============================================\n",
                "\n",
                "Description\n",
                "-----------\n",
                "\n",
                "Notebook to walkthrough extending an on-premises Availability Group with an Azure Passive Secondary Replica."
            ],
            "metadata": {
                "azdata_cell_guid": "a7c75090-5d5f-4a1b-8712-461a0921f4ad"
            }
        }
    ]
}