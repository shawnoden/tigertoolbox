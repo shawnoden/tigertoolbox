{
    "metadata": {
        "kernelspec": {
            "name": "python3",
            "display_name": "Python 3"
        },
        "language_info": {
            "name": "python",
            "version": "3.7.8",
            "mimetype": "text/x-python",
            "codemirror_mode": {
                "name": "ipython",
                "version": 3
            },
            "pygments_lexer": "ipython3",
            "nbconvert_exporter": "python",
            "file_extension": ".py"
        }
    },
    "nbformat_minor": 2,
    "nbformat": 4,
    "cells": [
        {
            "cell_type": "markdown",
            "source": [
                "Migrate a Database to a Azure SQL Managed Instance\n",
                "=============================================\n",
                "\n",
                "Description\n",
                "-----\n",
                "\n",
                "Copies the database from an on-premises SQL instance to an Azure SQL Managed Instance."
            ],
            "metadata": {
                "azdata_cell_guid": "5353c044-9920-478b-b1f8-e98119b73a21"
            }
        }
    ]
}