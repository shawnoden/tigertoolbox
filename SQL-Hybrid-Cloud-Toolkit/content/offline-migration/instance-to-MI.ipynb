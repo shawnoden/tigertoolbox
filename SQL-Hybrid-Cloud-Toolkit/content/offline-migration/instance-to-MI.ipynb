{
    "metadata": {
        "kernelspec": {
            "name": "powershell",
            "display_name": "PowerShell"
        },
        "language_info": {
            "name": "powershell",
            "codemirror_mode": "shell",
            "mimetype": "text/x-sh",
            "file_extension": ".ps1"
        }
    },
    "nbformat_minor": 2,
    "nbformat": 4,
    "cells": [
        {
            "cell_type": "markdown",
            "source": [
                "Migrate SQL Server Instance to Azure SQL Managed Instance\n",
                "=============================================\n",
                "\n",
                "Description\n",
                "-----\n",
                "\n",
                "clone the configuration and data of a sql instance into a managed instance\n",
                ""
            ],
            "metadata": {
                "azdata_cell_guid": "43600853-57b3-4e60-a2a9-a28fb82af386"
            }
        }
    ]
}