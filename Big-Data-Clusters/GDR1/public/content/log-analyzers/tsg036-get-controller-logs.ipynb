{
 "cells": [
  {
   "cell_type": "markdown",
   "metadata": {},
   "source": [
    "TSG036 - Controller logs\n",
    "========================\n",
    "\n",
    "Get the last ‘n’ hours of controller logs.\n",
    "\n",
    "Steps\n",
    "-----\n",
    "\n",
    "### Parameters"
   ]
  },
  {
   "cell_type": "code",
   "execution_count": null,
   "metadata": {
    "tags": [
     "parameters"
    ]
   },
   "outputs": [],
   "source": [
    "since_hours = 2\n",
    "since_seconds = since_hours * 3600 # seconds in hour\n",
    "\n",
    "coalesce_duplicates = True"
   ]
  },
  {
   "cell_type": "markdown",
   "metadata": {},
   "source": [
    "### Instantiate Kubernetes client"
   ]
  },
  {
   "cell_type": "code",
   "execution_count": null,
   "metadata": {
    "tags": [
     "hide_input"
    ]
   },
   "outputs": [],
   "source": [
    "# Instantiate the Python Kubernetes client into 'api' variable\n",
    "\n",
    "import os\n",
    "\n",
    "try:\n",
    "    from kubernetes import client, config\n",
    "    from kubernetes.stream import stream\n",
    "\n",
    "    if \"KUBERNETES_SERVICE_PORT\" in os.environ and \"KUBERNETES_SERVICE_HOST\" in os.environ:\n",
    "        config.load_incluster_config()\n",
    "    else:\n",
    "        config.load_kube_config()\n",
    "\n",
    "    api = client.CoreV1Api()\n",
    "\n",
    "    print('Kubernetes client instantiated')\n",
    "except ImportError:\n",
    "    from IPython.display import Markdown\n",
    "    display(Markdown(f'SUGGEST: Use [SOP059 - Install Kubernetes Python module](../install/sop059-install-kubernetes-module.ipynb) to resolve this issue.'))\n",
    "    raise"
   ]
  },
  {
   "cell_type": "markdown",
   "metadata": {},
   "source": [
    "### Get the namespace for the big data cluster\n",
    "\n",
    "Get the namespace of the big data cluster from the Kuberenetes API.\n",
    "\n",
    "NOTE: If there is more than one big data cluster in the target\n",
    "Kubernetes cluster, then set \\[0\\] to the correct value for the big data\n",
    "cluster."
   ]
  },
  {
   "cell_type": "code",
   "execution_count": null,
   "metadata": {
    "tags": [
     "hide_input"
    ]
   },
   "outputs": [],
   "source": [
    "# Place Kubernetes namespace name for BDC into 'namespace' variable\n",
    "\n",
    "try:\n",
    "    namespace = api.list_namespace(label_selector='MSSQL_CLUSTER').items[0].metadata.name\n",
    "except IndexError:\n",
    "    from IPython.display import Markdown\n",
    "    display(Markdown(f'SUGGEST: Use [TSG081 - Get namespaces (Kubernetes)](../monitor-k8s/tsg081-get-kubernetes-namespaces.ipynb) to resolve this issue.'))\n",
    "    display(Markdown(f'SUGGEST: Use [TSG010 - Get configuration contexts](../monitor-k8s/tsg010-get-kubernetes-contexts.ipynb) to resolve this issue.'))\n",
    "    display(Markdown(f'SUGGEST: Use [SOP011 - Set kubernetes configuration context](../common/sop011-set-kubernetes-context.ipynb) to resolve this issue.'))\n",
    "    raise\n",
    "\n",
    "print('The kubernetes namespace for your big data cluster is: ' + namespace)"
   ]
  },
  {
   "cell_type": "markdown",
   "metadata": {},
   "source": [
    "### Get controller logs"
   ]
  },
  {
   "cell_type": "code",
   "execution_count": null,
   "metadata": {},
   "outputs": [],
   "source": [
    "container = \"controller\"\n",
    "\n",
    "pod_list = api.list_namespaced_pod(namespace, label_selector=\"app=controller\")\n",
    "\n",
    "entries_for_analysis = []\n",
    "\n",
    "for pod in pod_list.items:\n",
    "    print (f\"Logs for controller pod: {pod.metadata.name}\")\n",
    "    try:\n",
    "        logs = api.read_namespaced_pod_log(pod.metadata.name, namespace, container=container, since_seconds=since_seconds)\n",
    "    except Exception as err:\n",
    "        print(f\"ERROR: {err}\")\n",
    "        pass\n",
    "    else:\n",
    "        if coalesce_duplicates:\n",
    "            previous_line = \"\"\n",
    "            duplicates = 1\n",
    "            for line in logs.split('\\n'):\n",
    "                if line[27:] != previous_line[27:]:\n",
    "                    if duplicates != 1:\n",
    "                        print(f\"\\t{previous_line} (x{duplicates})\")\n",
    "                    print(f\"\\t{line}\")\n",
    "                    duplicates = 1\n",
    "                else:\n",
    "                    duplicates = duplicates + 1\n",
    "                    continue\n",
    "\n",
    "                if line[25:34] == \"| ERROR |\" or line[25:33] == \"| WARN |\":\n",
    "                    entries_for_analysis.append(line)\n",
    "\n",
    "                previous_line = line\n",
    "        else:\n",
    "            print(logs)\n",
    "\n",
    "print (f\"There were {len(entries_for_analysis)} warnings and errors found.\")"
   ]
  },
  {
   "cell_type": "markdown",
   "metadata": {},
   "source": [
    "### Analyze log entries and suggest relevant Troubleshooting Guides"
   ]
  },
  {
   "cell_type": "code",
   "execution_count": null,
   "metadata": {
    "tags": [
     "hide_input"
    ]
   },
   "outputs": [],
   "source": [
    "# Analyze log entries and suggest further relevant troubleshooting guides\n",
    "\n",
    "from IPython.display import Markdown\n",
    "\n",
    "tsgs = [\n",
    "    [\"\"\"doc is missing key: /data\"\"\", \"\"\"../repair/tsg038-doc-is-missing-key-error.ipynb\"\"\", \"\"\"TSG038 - BDC create failures due to - doc is missing key\"\"\"],\n",
    "    [\"\"\"Failed when starting controller service. System.TimeoutException: Operation timed out after 10 minutes\"\"\", \"\"\"../repair/tsg057-failed-when-starting-controller.ipynb\"\"\", \"\"\"TSG057 - Failed when starting controller service. System.TimeoutException\"\"\"]]\n",
    "\n",
    "\n",
    "suggestions = 0\n",
    "for entry in entries_for_analysis:\n",
    "    print (entry)\n",
    "\n",
    "    for tsg in tsgs:\n",
    "        if entry.find(tsg[0]) != -1:\n",
    "            display(Markdown(f'SUGGEST: Use [{tsg[2]}](tsg[1]) to resolve this issue.'))\n",
    "            suggestions = suggestions + 1\n",
    "\n",
    "print(\"\")\n",
    "print(f\"{len(entries_for_analysis)} log entries analyzed. {suggestions} further troubleshooting suggestions made inline.\")"
   ]
  },
  {
   "cell_type": "code",
   "execution_count": null,
   "metadata": {},
   "outputs": [],
   "source": [
    "print('Notebook execution complete.')"
   ]
  },
  {
   "cell_type": "markdown",
   "metadata": {},
   "source": [
    "Related\n",
    "-------\n",
    "\n",
    "-   [TSG027 - Observe cluster\n",
    "    deployment](../diagnose/tsg027-observe-bdc-create.ipynb)"
   ]
  }
 ],
 "nbformat": 4,
 "nbformat_minor": 5,
 "metadata": {
  "kernelspec": {
   "name": "python3",
   "display_name": "Python 3"
  },
  "azdata": {
   "test": {
    "strategy": "Parallel",
    "ci": true,
    "gci": false
   },
   "side_effects": false
  }
 }
}

