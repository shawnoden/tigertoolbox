{
 "cells": [
  {
   "cell_type": "markdown",
   "metadata": {},
   "source": [
    "TSG093 - Agent log tail for all containers in BDC\n",
    "=================================================\n",
    "\n",
    "Steps\n",
    "-----\n",
    "\n",
    "### Parameters"
   ]
  },
  {
   "cell_type": "code",
   "execution_count": null,
   "metadata": {
    "tags": [
     "parameters"
    ]
   },
   "outputs": [],
   "source": [
    "tail_lines = 100\n",
    "line_offset = 27 # Skip the date/time at start of line\n",
    "\n",
    "cmd = f'tail -n {tail_lines} /var/log/agent/agent.log'\n",
    "\n",
    "coalesce_duplicates = True"
   ]
  },
  {
   "cell_type": "markdown",
   "metadata": {},
   "source": [
    "### Analyze log in all pod containers\n",
    "\n",
    "### Instantiate Kubernetes client"
   ]
  },
  {
   "cell_type": "code",
   "execution_count": null,
   "metadata": {
    "tags": [
     "hide_input"
    ]
   },
   "outputs": [],
   "source": [
    "# Instantiate the Python Kubernetes client into 'api' variable\n",
    "\n",
    "import os\n",
    "\n",
    "try:\n",
    "    from kubernetes import client, config\n",
    "    from kubernetes.stream import stream\n",
    "\n",
    "    if \"KUBERNETES_SERVICE_PORT\" in os.environ and \"KUBERNETES_SERVICE_HOST\" in os.environ:\n",
    "        config.load_incluster_config()\n",
    "    else:\n",
    "        config.load_kube_config()\n",
    "\n",
    "    api = client.CoreV1Api()\n",
    "\n",
    "    print('Kubernetes client instantiated')\n",
    "except ImportError:\n",
    "    from IPython.display import Markdown\n",
    "    display(Markdown(f'SUGGEST: Use [SOP059 - Install Kubernetes Python module](../install/sop059-install-kubernetes-module.ipynb) to resolve this issue.'))\n",
    "    raise"
   ]
  },
  {
   "cell_type": "markdown",
   "metadata": {},
   "source": [
    "### Get the namespace for the big data cluster\n",
    "\n",
    "Get the namespace of the big data cluster from the Kuberenetes API.\n",
    "\n",
    "NOTE: If there is more than one big data cluster in the target\n",
    "Kubernetes cluster, then set \\[0\\] to the correct value for the big data\n",
    "cluster."
   ]
  },
  {
   "cell_type": "code",
   "execution_count": null,
   "metadata": {
    "tags": [
     "hide_input"
    ]
   },
   "outputs": [],
   "source": [
    "# Place Kubernetes namespace name for BDC into 'namespace' variable\n",
    "\n",
    "try:\n",
    "    namespace = api.list_namespace(label_selector='MSSQL_CLUSTER').items[0].metadata.name\n",
    "except IndexError:\n",
    "    from IPython.display import Markdown\n",
    "    display(Markdown(f'SUGGEST: Use [TSG081 - Get namespaces (Kubernetes)](../monitor-k8s/tsg081-get-kubernetes-namespaces.ipynb) to resolve this issue.'))\n",
    "    display(Markdown(f'SUGGEST: Use [TSG010 - Get configuration contexts](../monitor-k8s/tsg010-get-kubernetes-contexts.ipynb) to resolve this issue.'))\n",
    "    display(Markdown(f'SUGGEST: Use [SOP011 - Set kubernetes configuration context](../common/sop011-set-kubernetes-context.ipynb) to resolve this issue.'))\n",
    "    raise\n",
    "\n",
    "print('The kubernetes namespace for your big data cluster is: ' + namespace)"
   ]
  },
  {
   "cell_type": "code",
   "execution_count": null,
   "metadata": {},
   "outputs": [],
   "source": [
    "from IPython.display import Markdown\n",
    "\n",
    "tsgs = [\n",
    "    [\"\"\"Failed to get file names from controller with Error\"\"\", \"\"\"../repair/tsg040-failed-get-file-names-controller.ipynb\"\"\", \"\"\"TSG040 - Failed to get file names from controller with Error\"\"\"],\n",
    "    [\"\"\"Please increase sysctl fs.aio-max-nr\"\"\", \"\"\"../repair/tsg041-increase-fs-aio-max-nr.ipynb\"\"\", \"\"\"TSG041 - Unable to create a new asynchronous I/O context (increase sysctl fs.aio-max-nr)\"\"\"]]\n",
    "\n",
    "\n",
    "pod_list = api.list_namespaced_pod(namespace)\n",
    "pod_names = [pod.metadata.name for pod in pod_list.items]\n",
    "\n",
    "for pod in pod_list.items:\n",
    "    container_names = [container.name for container in pod.spec.containers]\n",
    "    for container in container_names:\n",
    "            print (f\"*** LOGS for CONTAINER: {container} in POD: {pod.metadata.name}\")\n",
    "            try:\n",
    "                logs=stream(api.connect_get_namespaced_pod_exec, pod.metadata.name, namespace, command=['/bin/sh', '-c', cmd], container=container, stderr=True, stdout=True)\n",
    "\n",
    "                if coalesce_duplicates:\n",
    "                    previous_line = \"\"\n",
    "                    duplicates = 1\n",
    "                    for line in logs.split('\\n'):\n",
    "                        if line[line_offset:] != previous_line[line_offset:]:\n",
    "                            if duplicates != 1:\n",
    "                                print(f\"\\t{previous_line} (x{duplicates})\")\n",
    "                            print(f\"\\t{line}\")\n",
    "\n",
    "                            for tsg in tsgs:\n",
    "                                if line[line_offset:].find(tsg[0]) != -1:\n",
    "                                    display(Markdown(f'SUGGEST: Use [{tsg[1]}](tsg[2]) to resolve this issue.'))\n",
    "\n",
    "                            duplicates = 1\n",
    "                        else:\n",
    "                            duplicates = duplicates + 1\n",
    "                            continue\n",
    "\n",
    "                        previous_line = line\n",
    "                else:\n",
    "                    print(logs)\n",
    "\n",
    "            except Exception:\n",
    "                print (f\"Failed to get LOGS for CONTAINER: {container} in POD: {pod.metadata.name}\")"
   ]
  },
  {
   "cell_type": "code",
   "execution_count": null,
   "metadata": {},
   "outputs": [],
   "source": [
    "print('Notebook execution complete.')"
   ]
  }
 ],
 "nbformat": 4,
 "nbformat_minor": 5,
 "metadata": {
  "kernelspec": {
   "name": "python3",
   "display_name": "Python 3"
  },
  "azdata": {
   "test": {
    "strategy": "Parallel",
    "ci": true,
    "gci": false
   },
   "side_effects": false
  }
 }
}

