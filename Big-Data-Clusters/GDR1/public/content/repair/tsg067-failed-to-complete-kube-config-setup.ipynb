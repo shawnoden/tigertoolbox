{
 "cells": [
  {
   "cell_type": "markdown",
   "metadata": {},
   "source": [
    "TSG067 - Failed to complete kube config setup\n",
    "=============================================\n",
    "\n",
    "When trying to run `azdata`, it fails with\n",
    "\n",
    "> Cluster deployment documentation can be viewed at:\n",
    "> https://aka.ms/bdc-deploy\n",
    ">\n",
    "> ERROR: Failed to complete kube config setup. ERROR: Failed to complete\n",
    "> kube config setup.\n",
    "\n",
    "Description\n",
    "-----------\n",
    "\n",
    "This is caused by an invalid .kube/config file.\n",
    "\n",
    "The command `az aks get-credentials` can cause a .kube config file to\n",
    "get into this state if it is called twice on the same machine, for AKS\n",
    "clusters that are named the same, but are different physical clusters,\n",
    "and –overwrite-existing was not appended to the `az aks get-credentials`\n",
    "command line.\n",
    "\n",
    "Try running a simple kubectl command to confirm if there is a\n",
    "fundemental issue with Kubernetes connectivity on this machine. See\n",
    "Related links below.\n",
    "\n",
    "### Resolution\n",
    "\n",
    "To resolve this issue, manually edit the \\~/.kube/config file. On\n",
    "Windows this can be found in the %USERPROFILE%.kube folder.\n",
    "\n",
    "If this issue was called by running `az aks get-credentials` twice, then\n",
    "it is likely that the first entry for each section in the `config` file\n",
    "is the stale entry that needs to be removed.\n",
    "\n",
    "Related\n",
    "-------\n",
    "\n",
    "-   [TSG021 - Get cluster info\n",
    "    (Kubernetes)](../monitor-k8s/tsg021-get-k8s-cluster-info.ipynb)"
   ]
  }
 ],
 "nbformat": 4,
 "nbformat_minor": 5,
 "metadata": {
  "kernelspec": {
   "name": "python3",
   "display_name": "Python 3"
  },
  "azdata": {
   "test": {
    "ci": false,
    "gci": false
   },
   "side_effects": true
  }
 }
}

