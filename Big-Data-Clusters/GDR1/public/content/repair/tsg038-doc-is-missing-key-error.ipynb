{
 "cells": [
  {
   "cell_type": "markdown",
   "metadata": {},
   "source": [
    "TSG038 - BDC create failures due to - doc is missing key\n",
    "========================================================\n",
    "\n",
    "Description\n",
    "-----------\n",
    "\n",
    "An attempt to create a Big Data Cluster fails, and in the controller log\n",
    "the follow ERROR can be found.\n",
    "\n",
    "> 2019-08-14 17:38:44.9872 \\| ERROR \\| Failed to create agent\n",
    "> certificate for ScaleSet ‘control’ k8s.KubernetesException: Internal\n",
    "> Server Error:\n",
    "> {“kind”:“Status”,“apiVersion”:“v1”,“metadata”:{},“status”:“Failure”,“message”:“jsonpatch\n",
    "> replace operation does not apply: doc is missing key:\n",
    "> /data”,“code”:500} —\\> Microsoft.Rest.HttpOperationException:\n",
    "> Operation returned an invalid status code ‘InternalServerError’ at\n",
    "> k8s.Kubernetes.<PatchNamespacedSecretWithHttpMessagesAsync>d\\_\\_144.MoveNext()\n",
    "> — End of stack trace from previous location where exception was thrown\n",
    "> — at System.Runtime.ExceptionServices.ExceptionDispatchInfo.Throw() at\n",
    "> System.Runtime.CompilerServices.TaskAwaiter.HandleNonSuccessAndDebuggerNotification\n",
    "\n",
    "### Resolution\n",
    "\n",
    "This has been seen due to the version of the Kubernetes cluster not\n",
    "being at or above the minimum required version. e.g. this error will\n",
    "happen if trying to create a Big Data Cluster in a v1.10 Kubernetes\n",
    "cluster.\n",
    "\n",
    "Upgrade the Kubernetes cluster to the minimum supported version or\n",
    "higher."
   ]
  }
 ],
 "nbformat": 4,
 "nbformat_minor": 5,
 "metadata": {
  "kernelspec": {
   "name": "python3",
   "display_name": "Python 3"
  },
  "azdata": {
   "test": {
    "ci": false,
    "gci": false
   },
   "side_effects": true
  }
 }
}

