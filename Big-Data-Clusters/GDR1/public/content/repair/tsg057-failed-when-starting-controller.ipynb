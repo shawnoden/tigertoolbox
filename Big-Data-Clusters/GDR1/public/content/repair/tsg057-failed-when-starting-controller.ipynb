{
 "cells": [
  {
   "cell_type": "markdown",
   "metadata": {},
   "source": [
    "TSG057 - Failed when starting controller service. System.TimeoutException\n",
    "=========================================================================\n",
    "\n",
    "Description\n",
    "-----------\n",
    "\n",
    "> 2019-09-03 23:30:02.0053 \\| ERROR \\| Failed when starting controller\n",
    "> service. System.TimeoutException: Operation timed out after 10\n",
    "> minutes. —\\> System.Data.SqlClient.SqlException: A network-related or\n",
    "> instance-specific error occurred while establishing a connection to\n",
    "> SQL Server. The server was not found or was not accessible. Verify\n",
    "> that the instance name is correct and that SQL Server is configured to\n",
    "> allow remote connections. (provider: TCP Provider, error: 0 - The\n",
    "> remote computer refused the network connection.) —\\>\n",
    "> System.ComponentModel.Win32Exception: The remote computer refused the\n",
    "> network connection Unhandled Exception: System.TimeoutException:\n",
    "> Operation timed out after 10 minutes. —\\>\n",
    "> System.Data.SqlClient.SqlException: A network-related or\n",
    "> instance-specific error occurred while establishing a connection to\n",
    "> SQL Server. The server was not found or was not accessible. Verify\n",
    "> that the instance name is correct and that SQL Server is configured to\n",
    "> allow remote connections. (provider: TCP Provider, error: 0 - The\n",
    "> remote computer refused the network connection.) —\\>\n",
    "> System.ComponentModel.Win32Exception: The remote computer refused the\n",
    "> network connection This program has encountered a fatal error and\n",
    "> cannot continue running at Tue Sep 3 23:30:02 2019 Reason: OS Fatal\n",
    "> Error (0x00000006)\n",
    "\n",
    "Also in the controller database errorlog, the following can be seen:\n",
    "\n",
    "> 2019-09-05 13:38:57.25 spid12s Server failed to listen on ‘any’ <ipv6>\n",
    "> 1433. Error: 0x2742. To proceed, notify your system administrator.\n",
    "> 2019-09-05 13:38:57.26 spid12s Error: 17182, Severity: 16, State: 1.\n",
    "\n",
    "### Resolution\n",
    "\n",
    "This has been seen when an overlay network has not been deployed in the\n",
    "kubernetes cluster. Any container that requires some network access or\n",
    "feature will fail.\n",
    "\n",
    "To resolve this issue, delete the BDC cluster (azdata bdc delete),\n",
    "deploy an overlay network & run azdata bdc create again"
   ]
  }
 ],
 "nbformat": 4,
 "nbformat_minor": 5,
 "metadata": {
  "kernelspec": {
   "name": "python3",
   "display_name": "Python 3"
  },
  "azdata": {
   "test": {
    "ci": false,
    "gci": false
   },
   "side_effects": true
  }
 }
}

