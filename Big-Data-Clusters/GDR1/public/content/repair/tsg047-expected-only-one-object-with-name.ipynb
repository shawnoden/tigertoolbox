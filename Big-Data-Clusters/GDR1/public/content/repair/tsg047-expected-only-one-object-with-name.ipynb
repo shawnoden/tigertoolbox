{
 "cells": [
  {
   "cell_type": "markdown",
   "metadata": {},
   "source": [
    "TSG047 - ConfigException - Expected only one object with name\n",
    "=============================================================\n",
    "\n",
    "Description\n",
    "-----------\n",
    "\n",
    "When running mssqctl you get:\n",
    "\n",
    "> ERROR: Error processing command: “ConfigException” Invalid kube-config\n",
    "> file. Expected only one object with name username\\_bdc-aks-cluster in\n",
    "> kube-config/users list\n",
    "\n",
    "There are duplicate entries in the .kube/config. This can be caused by\n",
    "creating, deleting, creating the same AKS cluster, and calling ‘az aks\n",
    "get-credentials’ each time. The ‘get-credentials’ call duplicates the\n",
    "entries in the .kube/config file.\n",
    "\n",
    "The command line tool ‘kubectl’ does not seem to have a problem with\n",
    "duplicate entries, but the kuberenete python client does, and azdata\n",
    "uses the kubernetes python client to create the MSSQL\\_CLUSTER:\n",
    "\n",
    "    https://github.com/kubernetes-client/python\n",
    "\n",
    "Steps\n",
    "-----\n",
    "\n",
    "The python kubernetes client (which azdata users), does not work if the\n",
    "same details are in the kubeconfig twice. You’ll need to remove the 1st\n",
    "entry, and leave the 2nd entry.\n",
    "\n",
    "### Resolution\n",
    "\n",
    "You will have 2 of these in .kube/config\n",
    "\n",
    "-   name: username\\_bdc-aks-cluster\n",
    "\n",
    "Delete the first one (the entire section, i.e including user (and all it\n",
    "attributes)"
   ]
  }
 ],
 "nbformat": 4,
 "nbformat_minor": 5,
 "metadata": {
  "kernelspec": {
   "name": "python3",
   "display_name": "Python 3"
  },
  "azdata": {
   "test": {
    "strategy": "Parallel",
    "ci": false,
    "gci": false
   },
   "side_effects": false
  }
 }
}

