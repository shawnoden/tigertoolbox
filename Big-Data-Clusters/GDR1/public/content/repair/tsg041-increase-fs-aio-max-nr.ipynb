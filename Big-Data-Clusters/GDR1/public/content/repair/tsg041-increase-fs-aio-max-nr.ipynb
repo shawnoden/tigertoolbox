{
 "cells": [
  {
   "cell_type": "markdown",
   "metadata": {},
   "source": [
    "TSG041 - Unable to create a new asynchronous I/O context (increase sysctl fs.aio-max-nr)\n",
    "========================================================================================\n",
    "\n",
    "Description\n",
    "-----------\n",
    "\n",
    "The mssql-server containers continuously restart. The following is seen\n",
    "in the Agent log for the mssql-server containers\n",
    "\n",
    "> 2019/08/30 00:18:44.038983 \\[mssql:stderr\\] This program has\n",
    "> encountered a fatal error and cannot continue running at Fri Aug 30\n",
    "> 00:17:42 2019 2019/08/30 00:18:44.038998 \\[mssql:stderr\\] The\n",
    "> following diagnostic information is available: 2019/08/30\n",
    "> 00:18:44.039007 \\[mssql:stderr\\] Reason: Host Extension RTL\\_ASSERT\n",
    "> (0x00000003) 2019/08/30 00:18:44.039020 \\[mssql:stderr\\] Status:\n",
    "> Unknown (0x0000000b) 2019/08/30 00:18:44.039030 \\[mssql:stderr\\]\n",
    "> Message: Unable to create a new asynchronous I/O context. Please\n",
    "> increase sysctl fs.aio-max-nr.\n",
    "\n",
    "### Resolution\n",
    "\n",
    "Follow the steps here to resolve this issue:\n",
    "\n",
    "    Setting the sysctl parameter aio-max-nr value to 1048576\n",
    "\n",
    "    https://sort.veritas.com/public/documents/HSO/2.0/linux/productguides/html/hfo_admin_rhel/ch04s03.htm"
   ]
  }
 ],
 "nbformat": 4,
 "nbformat_minor": 5,
 "metadata": {
  "kernelspec": {
   "name": "python3",
   "display_name": "Python 3"
  },
  "azdata": {
   "test": {
    "ci": false,
    "gci": false
   },
   "side_effects": true
  }
 }
}

