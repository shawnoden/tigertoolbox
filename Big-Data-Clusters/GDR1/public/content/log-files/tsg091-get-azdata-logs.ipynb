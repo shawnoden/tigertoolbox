{
 "cells": [
  {
   "cell_type": "markdown",
   "metadata": {},
   "source": [
    "TSG091 - Get the azdata CLI logs\n",
    "================================\n",
    "\n",
    "Steps\n",
    "-----\n",
    "\n",
    "### Get the azdata logs from the local machine\n",
    "\n",
    "Gets the contents of the most recent log. There may be old logs in\n",
    "azdata.log.1, azdata.log.2 etc."
   ]
  },
  {
   "cell_type": "code",
   "execution_count": null,
   "metadata": {},
   "outputs": [],
   "source": [
    "import os\n",
    "from pathlib import Path\n",
    "home = str(Path.home())\n",
    "\n",
    "file = open(os.path.join(home, \".azdata\", \"logs\", \"azdata.log\"), \"r\")\n",
    "print(file.read())\n",
    "\n",
    "file.close()"
   ]
  },
  {
   "cell_type": "code",
   "execution_count": null,
   "metadata": {},
   "outputs": [],
   "source": [
    "print('Notebook execution complete.')"
   ]
  }
 ],
 "nbformat": 4,
 "nbformat_minor": 5,
 "metadata": {
  "kernelspec": {
   "name": "python3",
   "display_name": "Python 3"
  },
  "azdata": {
   "test": {
    "strategy": "Parallel",
    "ci": false,
    "gci": false
   },
   "side_effects": false
  }
 }
}

