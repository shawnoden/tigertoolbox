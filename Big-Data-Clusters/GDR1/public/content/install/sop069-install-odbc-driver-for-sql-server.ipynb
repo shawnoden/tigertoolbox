{
 "cells": [
  {
   "cell_type": "markdown",
   "metadata": {},
   "source": [
    "SOP069 - Install ODBC for SQL Server\n",
    "====================================\n",
    "\n",
    "Description\n",
    "-----------\n",
    "\n",
    "Some subcommands in `azdata` require the SQL Server ODBC driver. If the\n",
    "driver is not installed, the following error is given:\n",
    "\n",
    "> ERROR: Error processing command: “InterfaceError” (‘IM002’, ‘\\[IM002\\]\n",
    "> \\[Microsoft\\]\\[ODBC Driver Manager\\] Data source name not found and no\n",
    "> default driver specified (0) (SQLDriverConnect)’)\n",
    "\n",
    "Steps\n",
    "-----\n",
    "\n",
    "### Install ODBC Driver 17 for SQL Server"
   ]
  },
  {
   "cell_type": "code",
   "execution_count": null,
   "metadata": {},
   "outputs": [],
   "source": [
    "import platform\n",
    "import webbrowser\n",
    "\n",
    "if platform.system() == \"Windows\":\n",
    "    webbrowser.open('https://www.microsoft.com/en-us/download/details.aspx?id=56567')\n",
    "else:\n",
    "    webbrowser.open('https://docs.microsoft.com/en-us/sql/connect/odbc/linux-mac/installing-the-microsoft-odbc-driver-for-sql-server')"
   ]
  },
  {
   "cell_type": "code",
   "execution_count": null,
   "metadata": {},
   "outputs": [],
   "source": [
    "print('Notebook execution complete.')"
   ]
  }
 ],
 "nbformat": 4,
 "nbformat_minor": 5,
 "metadata": {
  "kernelspec": {
   "name": "python3",
   "display_name": "Python 3"
  },
  "azdata": {
   "test": {
    "strategy": "Parallel",
    "ci": false,
    "gci": false
   },
   "sideaffects": false
  }
 }
}

