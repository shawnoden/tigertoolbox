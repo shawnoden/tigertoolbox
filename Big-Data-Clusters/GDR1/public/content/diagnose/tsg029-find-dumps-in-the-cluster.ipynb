{
 "cells": [
  {
   "cell_type": "markdown",
   "metadata": {},
   "source": [
    "TSG029 - Find dumps in the cluster\n",
    "==================================\n",
    "\n",
    "Description\n",
    "-----------\n",
    "\n",
    "Look for coredumps and minidumps from processes like SQL Server or\n",
    "controller in a big data cluster.\n",
    "\n",
    "Steps\n",
    "-----\n",
    "\n",
    "### Instantiate Kubernetes client"
   ]
  },
  {
   "cell_type": "code",
   "execution_count": null,
   "metadata": {
    "tags": [
     "hide_input"
    ]
   },
   "outputs": [],
   "source": [
    "# Instantiate the Python Kubernetes client into 'api' variable\n",
    "\n",
    "import os\n",
    "\n",
    "try:\n",
    "    from kubernetes import client, config\n",
    "    from kubernetes.stream import stream\n",
    "\n",
    "    if \"KUBERNETES_SERVICE_PORT\" in os.environ and \"KUBERNETES_SERVICE_HOST\" in os.environ:\n",
    "        config.load_incluster_config()\n",
    "    else:\n",
    "        config.load_kube_config()\n",
    "\n",
    "    api = client.CoreV1Api()\n",
    "\n",
    "    print('Kubernetes client instantiated')\n",
    "except ImportError:\n",
    "    from IPython.display import Markdown\n",
    "    display(Markdown(f'SUGGEST: Use [SOP059 - Install Kubernetes Python module](../install/sop059-install-kubernetes-module.ipynb) to resolve this issue.'))\n",
    "    raise"
   ]
  },
  {
   "cell_type": "markdown",
   "metadata": {},
   "source": [
    "### Get the namespace for the big data cluster\n",
    "\n",
    "Get the namespace of the big data cluster from the Kuberenetes API.\n",
    "\n",
    "NOTE: If there is more than one big data cluster in the target\n",
    "Kubernetes cluster, then set \\[0\\] to the correct value for the big data\n",
    "cluster."
   ]
  },
  {
   "cell_type": "code",
   "execution_count": null,
   "metadata": {
    "tags": [
     "hide_input"
    ]
   },
   "outputs": [],
   "source": [
    "# Place Kubernetes namespace name for BDC into 'namespace' variable\n",
    "\n",
    "try:\n",
    "    namespace = api.list_namespace(label_selector='MSSQL_CLUSTER').items[0].metadata.name\n",
    "except IndexError:\n",
    "    from IPython.display import Markdown\n",
    "    display(Markdown(f'SUGGEST: Use [TSG081 - Get namespaces (Kubernetes)](../monitor-k8s/tsg081-get-kubernetes-namespaces.ipynb) to resolve this issue.'))\n",
    "    display(Markdown(f'SUGGEST: Use [TSG010 - Get configuration contexts](../monitor-k8s/tsg010-get-kubernetes-contexts.ipynb) to resolve this issue.'))\n",
    "    display(Markdown(f'SUGGEST: Use [SOP011 - Set kubernetes configuration context](../common/sop011-set-kubernetes-context.ipynb) to resolve this issue.'))\n",
    "    raise\n",
    "\n",
    "print('The kubernetes namespace for your big data cluster is: ' + namespace)"
   ]
  },
  {
   "cell_type": "markdown",
   "metadata": {},
   "source": [
    "### Get all relevant pods"
   ]
  },
  {
   "cell_type": "code",
   "execution_count": null,
   "metadata": {},
   "outputs": [],
   "source": [
    "pod_list = api.list_namespaced_pod(namespace, label_selector='app in (compute-0, data-0, storage-0, master, controller, controldb)', field_selector='status.phase==Running')\n",
    "pod_names = [pod.metadata.name for pod in pod_list.items]\n",
    "print('Scanning pods: ' + ', '.join(pod_names))\n",
    "\n",
    "command = 'find /var/opt /var/log | grep -E \"core\\\\.sqlservr|core\\\\.controller|SQLD|\\\\.mdmp$|\\\\.dmp$|\\\\.gdmp$\"'\n",
    "all_dumps = ''\n",
    "\n",
    "for name in pod_names:\n",
    "    print('Searching pod: ' + name)\n",
    "    container = 'mssql-server'\n",
    "    if 'control-' in name:\n",
    "        container = 'controller'\n",
    "\n",
    "    try:\n",
    "        dumps=stream(api.connect_get_namespaced_pod_exec, name, namespace, command=['/bin/sh', '-c', command], container=container, stderr=True, stdout=True)\n",
    "    except Exception as e:\n",
    "        print(f'Unable to connect to pod: {name} due to {str(e.__class__)}. Skipping dump check for this pod...')\n",
    "    else:\n",
    "        if dumps:\n",
    "            all_dumps += '*Pod: ' + name + '*\\n'\n",
    "            all_dumps += dumps + '\\n'"
   ]
  },
  {
   "cell_type": "markdown",
   "metadata": {},
   "source": [
    "### Validate\n",
    "\n",
    "Validate no dump files were found."
   ]
  },
  {
   "cell_type": "code",
   "execution_count": null,
   "metadata": {},
   "outputs": [],
   "source": [
    "if len(all_dumps) > 0:\n",
    "    raise SystemExit('FAIL - dump files found:\\n' + all_dumps)\n",
    "\n",
    "print('SUCCESS - no dump files were found.')"
   ]
  },
  {
   "cell_type": "code",
   "execution_count": null,
   "metadata": {},
   "outputs": [],
   "source": [
    "print('Notebook execution complete.')"
   ]
  }
 ],
 "nbformat": 4,
 "nbformat_minor": 5,
 "metadata": {
  "kernelspec": {
   "name": "python3",
   "display_name": "Python 3"
  },
  "azdata": {
   "test": {
    "strategy": "Sequential",
    "ci": true,
    "gci": true
   },
   "side_effects": false
  }
 }
}

