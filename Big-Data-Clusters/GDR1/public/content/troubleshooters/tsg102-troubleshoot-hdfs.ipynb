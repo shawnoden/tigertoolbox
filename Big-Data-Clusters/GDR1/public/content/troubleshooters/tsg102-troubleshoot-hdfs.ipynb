{
 "cells": [
  {
   "cell_type": "markdown",
   "metadata": {},
   "source": [
    "TSG102 - HDFS troubleshooter\n",
    "============================\n",
    "\n",
    "Description\n",
    "-----------\n",
    "\n",
    "Follow these steps to troubleshoot HDFS issues\n",
    "\n",
    "Steps\n",
    "-----\n",
    "\n",
    "### Run through the HDFS sample notebook\n",
    "\n",
    "Run through this sample nootebok to incrementally verify each major\n",
    "component of HDFS in the Big Data Cluster. If the sample hits any\n",
    "problems, it will SUGGEST the next TSG to run to resolve the issue.\n",
    "\n",
    "-   [SAM009 - HDFS using\n",
    "    azdata](../sample/sam009-hdfs-using-azdata.ipynb)\n",
    "\n",
    "### View and Analyze the HDFS related logs\n",
    "\n",
    "-   [TSG088 - Hadoop datanode\n",
    "    logs](../log-analyzers/tsg088-get-datanode-logs.ipynb)\n",
    "-   [TSG090 - Yarn nodemanager\n",
    "    logs](../log-analyzers/tsg090-get-nodemanager-logs.ipynb)\n",
    "-   [TSG095 - Hadoop namenode\n",
    "    logs](../log-analyzers/tsg095-get-namenode-logs.ipynb)\n",
    "\n",
    "### Verify the Gateway log\n",
    "\n",
    "The Knox gateway will strip error information from responses going to\n",
    "the client, and place it in the gateway logs.\n",
    "\n",
    "-   [TSG046 - Knox gateway\n",
    "    logs](../log-analyzers/tsg046-get-knox-logs.ipynb)\n",
    "\n",
    "Related\n",
    "-------\n",
    "\n",
    "-   [TSG100 - The Big Data Cluster\n",
    "    troubleshooter](../troubleshooters/tsg100-troubleshoot-bdc.ipynb)"
   ]
  }
 ],
 "nbformat": 4,
 "nbformat_minor": 5,
 "metadata": {
  "kernelspec": {
   "name": "python3",
   "display_name": "Python 3"
  },
  "azdata": {
   "test": {
    "strategy": "Parallel",
    "ci": false,
    "gci": false
   },
   "side_effects": false
  }
 }
}

