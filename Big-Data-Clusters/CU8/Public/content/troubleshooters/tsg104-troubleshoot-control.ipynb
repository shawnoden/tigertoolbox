{
    "cells": [
        {
            "cell_type": "markdown",
            "metadata": {},
            "source": [
                "TSG104 - Control troubleshooter\n",
                "===============================\n",
                "\n",
                "Description\n",
                "-----------\n",
                "\n",
                "Follow these steps to troubleshoot `controller` issues.\n",
                "\n",
                "Steps\n",
                "-----\n",
                "\n",
                "### View and analyze the `controller` log files\n",
                "\n",
                "The following TSG will get the controller logs from the cluster, and\n",
                "analyze each entry for known issues and HINT further TSGs to assist.\n",
                "\n",
                "-   [TSG036 - Controller\n",
                "    logs](../log-analyzers/tsg036-get-controller-logs.ipynb)\n",
                "\n",
                "The controller health monitor may also report issues from dependent\n",
                "services, the logs for these can be viewed here:\n",
                "\n",
                "-   [TSG076 - Elastic Search\n",
                "    logs](../log-analyzers/tsg076-get-elastic-search-logs.ipynb)\n",
                "-   [TSG077 - Kibana\n",
                "    logs](../log-analyzers/tsg077-get-kibana-logs.ipynb)\n",
                "\n",
                "Related\n",
                "-------\n",
                "\n",
                "-   [TSG100 - The Big Data Cluster\n",
                "    troubleshooter](../troubleshooters/tsg100-troubleshoot-bdc.ipynb)"
            ]
        }
    ],
    "nbformat": 4,
    "nbformat_minor": 5,
    "metadata": {
        "kernelspec": {
            "name": "python3",
            "display_name": "Python 3"
        },
        "azdata": {
            "side_effects": false
        }
    }
}