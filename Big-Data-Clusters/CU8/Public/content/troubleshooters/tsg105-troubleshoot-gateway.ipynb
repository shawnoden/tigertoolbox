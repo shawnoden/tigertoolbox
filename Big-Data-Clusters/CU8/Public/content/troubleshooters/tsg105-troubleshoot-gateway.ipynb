{
    "cells": [
        {
            "cell_type": "markdown",
            "metadata": {},
            "source": [
                "TSG105 - Gateway troubleshooter\n",
                "===============================\n",
                "\n",
                "Description\n",
                "-----------\n",
                "\n",
                "Follow these steps to troubleshoot Knox Gateway issues.\n",
                "\n",
                "Steps\n",
                "-----\n",
                "\n",
                "### View and Analyze the gateway log\n",
                "\n",
                "-   [TSG046 - Knox gateway\n",
                "    logs](../log-analyzers/tsg046-get-knox-logs.ipynb)\n",
                "\n",
                "Related\n",
                "-------\n",
                "\n",
                "-   [TSG100 - The Big Data Cluster\n",
                "    troubleshooter](../troubleshooters/tsg100-troubleshoot-bdc.ipynb)"
            ]
        }
    ],
    "nbformat": 4,
    "nbformat_minor": 5,
    "metadata": {
        "kernelspec": {
            "name": "python3",
            "display_name": "Python 3"
        },
        "azdata": {
            "side_effects": false
        }
    }
}