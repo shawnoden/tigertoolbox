{
    "cells": [
        {
            "cell_type": "markdown",
            "metadata": {},
            "source": [
                "TSG084 - Internal Query Processor Error\n",
                "=======================================\n",
                "\n",
                "Description\n",
                "-----------\n",
                "\n",
                "When running a Polybase query, the following error maybe returned:\n",
                "\n",
                "> Msg 8680, Level 16, State 30, Line 1 Internal Query Processor Error:\n",
                "> The query processor encountered an unexpected error during the\n",
                "> processing of a remote query phase. OLE DB provider \u201cMSOLEDBSQL\u201d for\n",
                "> linked server \u201c(null)\u201d returned message \u201cUnspecified error\u201d. Msg 7421,\n",
                "> Level 16, State 2, Line 1 Cannot fetch the rowset from OLE DB provider\n",
                "> \u201cMSOLEDBSQL\u201d for linked server \u201c(null)\u201d. .\n",
                "\n",
                "To get more information, use the following DMV query. The `details`\n",
                "column will contain more information. All the rows for a single\n",
                "\u2018execution\\_id\u2019 (QIDnnnnnn) are related to a single query execution.\n",
                "\n",
                "### Steps"
            ]
        },
        {
            "cell_type": "code",
            "execution_count": null,
            "metadata": {},
            "outputs": [],
            "source": [
                "DECLARE @query NVARCHAR(max) = '<enter query here>'\n",
                "\n",
                "SELECT e.*\n",
                "FROM sys.dm_exec_distributed_requests dr\n",
                "CROSS APPLY sys.dm_exec_sql_text(sql_handle) st\n",
                "JOIN sys.dm_exec_compute_node_errors e ON dr.execution_id = e.execution_id\n",
                "WHERE st.text = @query\n",
                "ORDER BY create_time DESC"
            ]
        },
        {
            "cell_type": "code",
            "execution_count": null,
            "metadata": {},
            "outputs": [],
            "source": [
                "print('Notebook execution complete.')"
            ]
        }
    ],
    "nbformat": 4,
    "nbformat_minor": 5,
    "metadata": {
        "kernelspec": {
            "name": "sql",
            "display_name": "SQL"
        },
        "azdata": {
            "side_effects": true
        }
    }
}