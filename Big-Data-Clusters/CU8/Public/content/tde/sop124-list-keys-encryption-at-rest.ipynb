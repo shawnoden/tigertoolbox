{
    "cells": [
        {
            "cell_type": "markdown",
            "metadata": {},
            "source": [
                "SOP0124 - List Keys For Encryption At Rest.\n",
                "===========================================\n",
                "\n",
                "Description\n",
                "-----------\n",
                "\n",
                "Use this notebook to connect to the `controller` database to list all\n",
                "keys which are used by the encryption at rest feature of SQL Server Big\n",
                "Data Cluster. These keys are used by HDFS encryption zone.\n",
                "\n",
                "Sample output: Name, Cipher, Bit Length, Master Key Version mykey1,\n",
                "AES/CTR/NoPadding, 256, hdfs-encryption-master-key@0 mykey2,\n",
                "AES/CTR/NoPadding, 128, hdfs-encryption-master-key@0 mykey3,\n",
                "AES/CTR/NoPadding, 192, hdfs-encryption-master-key@0 securelakekey,\n",
                "AES/CTR/NoPadding, 256, hdfs-encryption-master-key@0\n",
                "\n",
                "Steps\n",
                "-----\n",
                "\n",
                "### Instantiate Kubernetes client"
            ]
        },
        {
            "cell_type": "code",
            "execution_count": null,
            "metadata": {
                "tags": [
                    "hide_input"
                ]
            },
            "outputs": [],
            "source": [
                "# Instantiate the Python Kubernetes client into 'api' variable\n",
                "\n",
                "import os\n",
                "from IPython.display import Markdown\n",
                "\n",
                "try:\n",
                "    from kubernetes import client, config\n",
                "    from kubernetes.stream import stream\n",
                "\n",
                "    if \"KUBERNETES_SERVICE_PORT\" in os.environ and \"KUBERNETES_SERVICE_HOST\" in os.environ:\n",
                "        config.load_incluster_config()\n",
                "    else:\n",
                "        try:\n",
                "            config.load_kube_config()\n",
                "        except:\n",
                "            display(Markdown(f'HINT: Use [TSG118 - Configure Kubernetes config](../repair/tsg118-configure-kube-config.ipynb) to resolve this issue.'))\n",
                "            raise\n",
                "    api = client.CoreV1Api()\n",
                "\n",
                "    print('Kubernetes client instantiated')\n",
                "except ImportError:\n",
                "    display(Markdown(f'HINT: Use [SOP059 - Install Kubernetes Python module](../install/sop059-install-kubernetes-module.ipynb) to resolve this issue.'))\n",
                "    raise"
            ]
        },
        {
            "cell_type": "markdown",
            "metadata": {},
            "source": [
                "### Get the namespace for the big data cluster\n",
                "\n",
                "Get the namespace of the Big Data Cluster from the Kuberenetes API.\n",
                "\n",
                "**NOTE:**\n",
                "\n",
                "If there is more than one Big Data Cluster in the target Kubernetes\n",
                "cluster, then either:\n",
                "\n",
                "-   set \\[0\\] to the correct value for the big data cluster.\n",
                "-   set the environment variable AZDATA\\_NAMESPACE, before starting\n",
                "    Azure Data Studio."
            ]
        },
        {
            "cell_type": "code",
            "execution_count": null,
            "metadata": {
                "tags": [
                    "hide_input"
                ]
            },
            "outputs": [],
            "source": [
                "# Place Kubernetes namespace name for BDC into 'namespace' variable\n",
                "\n",
                "if \"AZDATA_NAMESPACE\" in os.environ:\n",
                "    namespace = os.environ[\"AZDATA_NAMESPACE\"]\n",
                "else:\n",
                "    try:\n",
                "        namespace = api.list_namespace(label_selector='MSSQL_CLUSTER').items[0].metadata.name\n",
                "    except IndexError:\n",
                "        from IPython.display import Markdown\n",
                "        display(Markdown(f'HINT: Use [TSG081 - Get namespaces (Kubernetes)](../monitor-k8s/tsg081-get-kubernetes-namespaces.ipynb) to resolve this issue.'))\n",
                "        display(Markdown(f'HINT: Use [TSG010 - Get configuration contexts](../monitor-k8s/tsg010-get-kubernetes-contexts.ipynb) to resolve this issue.'))\n",
                "        display(Markdown(f'HINT: Use [SOP011 - Set kubernetes configuration context](../common/sop011-set-kubernetes-context.ipynb) to resolve this issue.'))\n",
                "        raise\n",
                "\n",
                "print('The kubernetes namespace for your big data cluster is: ' + namespace)"
            ]
        },
        {
            "cell_type": "markdown",
            "metadata": {},
            "source": [
                "### Python function queries `controller` database and return results."
            ]
        },
        {
            "cell_type": "code",
            "execution_count": null,
            "metadata": {},
            "outputs": [],
            "source": [
                "import pandas\n",
                "from io import StringIO\n",
                "pandas.set_option('display.max_colwidth', -1)\n",
                "name = 'controldb-0'\n",
                "container = 'mssql-server'\n",
                "\n",
                "def get_dataframe(query):\n",
                "    command=f\"\"\"export SQLCMDPASSWORD=$(cat /var/run/secrets/credentials/mssql-sa-password/password);\n",
                "    /opt/mssql-tools/bin/sqlcmd -b -S . -U sa -Q \"SET NOCOUNT ON;\n",
                "    {query}\" -d controller  -s\"^\" -W > /tmp/out.csv;\n",
                "    sed -i 2d /tmp/out.csv; cat /tmp/out.csv\"\"\"\n",
                "    output=stream(api.connect_get_namespaced_pod_exec, name, namespace, command=['/bin/sh', '-c', command], container=container, stderr=True, stdout=True)\n",
                "    return pandas.read_csv(StringIO(output), sep='^')\n",
                "\n",
                "print(\"Function 'get_dataframe' defined\")"
            ]
        },
        {
            "cell_type": "markdown",
            "metadata": {},
            "source": [
                "### List all keys for Hadoop encryption at rest."
            ]
        },
        {
            "cell_type": "code",
            "execution_count": null,
            "metadata": {},
            "outputs": [],
            "source": [
                "import json\n",
                "import base64\n",
                "\n",
                "df = get_dataframe(\"select account_name, application_metadata from Credentials where application_metadata like '%hdfsvault-svc%' and type = '2'\")\n",
                "\n",
                "print(\"{:<20} {:<25} {:<20} {:<30}\".format('Name', 'Cipher', 'Bit Length', 'Master Key Version'))\n",
                "print(\"-------------------------------------------------------------------------------------------------\")\n",
                "\n",
                "for index, row in df.iterrows():\n",
                "    key_name = row[0]\n",
                "    applicationJson = json.loads(row[1])\n",
                "    cipher = applicationJson[\"cipher\"]\n",
                "    bit_length = applicationJson[\"bitLength\"]\n",
                "    originalUrl = base64.b64decode(applicationJson[\"master_key_version_name\"]).decode()\n",
                "    splitItems = originalUrl.split(\"/\")\n",
                "    master_key_version = splitItems[-2] + \"@\" + splitItems[-1]\n",
                "    print(\"{:<20} {:<25} {:<20} {:<30}\".format(key_name, cipher, bit_length, master_key_version))\n",
                "\n",
                "df = get_dataframe(\"select account_name, application_metadata from Credentials where application_metadata like '%hdfsvault-svc%' and type = '3'\")\n",
                "print(\"Encryption Key protector\")\n",
                "print(\"-------------------------\")\n",
                "for index, row in df.iterrows():\n",
                "    key_name = row[0]\n",
                "    print(key_name)"
            ]
        },
        {
            "cell_type": "code",
            "execution_count": null,
            "metadata": {},
            "outputs": [],
            "source": [
                "print('Notebook execution complete.')"
            ]
        }
    ],
    "nbformat": 4,
    "nbformat_minor": 5,
    "metadata": {
        "kernelspec": {
            "name": "python3",
            "display_name": "Python 3"
        },
        "azdata": {
            "side_effects": false
        }
    }
}