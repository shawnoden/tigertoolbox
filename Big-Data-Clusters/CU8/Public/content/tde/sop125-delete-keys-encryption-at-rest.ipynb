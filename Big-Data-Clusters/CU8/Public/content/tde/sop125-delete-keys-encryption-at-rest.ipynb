{
    "cells": [
        {
            "cell_type": "markdown",
            "metadata": {},
            "source": [
                "SOP0125 - Delete Key For Encryption At Rest\n",
                "===========================================\n",
                "\n",
                "Description\n",
                "-----------\n",
                "\n",
                "Use this notebook to connect to the `controller` database and delete a\n",
                "key from controller database. For restoring keys with names which exist\n",
                "in the target deployment, the key with the conflicting name needs to be\n",
                "deleted before it can be restored. This notebook can be used to delete\n",
                "keys with conflicting names.\n",
                "\n",
                "Steps\n",
                "-----\n",
                "\n",
                "### Parameters\n",
                "\n",
                "Set the `key_to_be_deleted` to the key name to be deleted from Big Data\n",
                "Cluster."
            ]
        },
        {
            "cell_type": "code",
            "execution_count": null,
            "metadata": {
                "tags": [
                    "parameters"
                ]
            },
            "outputs": [],
            "source": [
                "key_to_be_deleted = \"your_key_name_here\"\n",
                "print(f\"Key with name '{key_to_be_deleted}' will be deleted.\")"
            ]
        },
        {
            "cell_type": "markdown",
            "metadata": {},
            "source": [
                "### Instantiate Kubernetes client"
            ]
        },
        {
            "cell_type": "code",
            "execution_count": null,
            "metadata": {
                "tags": [
                    "hide_input"
                ]
            },
            "outputs": [],
            "source": [
                "# Instantiate the Python Kubernetes client into 'api' variable\n",
                "\n",
                "import os\n",
                "from IPython.display import Markdown\n",
                "\n",
                "try:\n",
                "    from kubernetes import client, config\n",
                "    from kubernetes.stream import stream\n",
                "\n",
                "    if \"KUBERNETES_SERVICE_PORT\" in os.environ and \"KUBERNETES_SERVICE_HOST\" in os.environ:\n",
                "        config.load_incluster_config()\n",
                "    else:\n",
                "        try:\n",
                "            config.load_kube_config()\n",
                "        except:\n",
                "            display(Markdown(f'HINT: Use [TSG118 - Configure Kubernetes config](../repair/tsg118-configure-kube-config.ipynb) to resolve this issue.'))\n",
                "            raise\n",
                "    api = client.CoreV1Api()\n",
                "\n",
                "    print('Kubernetes client instantiated')\n",
                "except ImportError:\n",
                "    display(Markdown(f'HINT: Use [SOP059 - Install Kubernetes Python module](../install/sop059-install-kubernetes-module.ipynb) to resolve this issue.'))\n",
                "    raise"
            ]
        },
        {
            "cell_type": "markdown",
            "metadata": {},
            "source": [
                "### Get the namespace for the big data cluster\n",
                "\n",
                "Get the namespace of the Big Data Cluster from the Kuberenetes API.\n",
                "\n",
                "**NOTE:**\n",
                "\n",
                "If there is more than one Big Data Cluster in the target Kubernetes\n",
                "cluster, then either:\n",
                "\n",
                "-   set \\[0\\] to the correct value for the big data cluster.\n",
                "-   set the environment variable AZDATA\\_NAMESPACE, before starting\n",
                "    Azure Data Studio."
            ]
        },
        {
            "cell_type": "code",
            "execution_count": null,
            "metadata": {
                "tags": [
                    "hide_input"
                ]
            },
            "outputs": [],
            "source": [
                "# Place Kubernetes namespace name for BDC into 'namespace' variable\n",
                "\n",
                "if \"AZDATA_NAMESPACE\" in os.environ:\n",
                "    namespace = os.environ[\"AZDATA_NAMESPACE\"]\n",
                "else:\n",
                "    try:\n",
                "        namespace = api.list_namespace(label_selector='MSSQL_CLUSTER').items[0].metadata.name\n",
                "    except IndexError:\n",
                "        from IPython.display import Markdown\n",
                "        display(Markdown(f'HINT: Use [TSG081 - Get namespaces (Kubernetes)](../monitor-k8s/tsg081-get-kubernetes-namespaces.ipynb) to resolve this issue.'))\n",
                "        display(Markdown(f'HINT: Use [TSG010 - Get configuration contexts](../monitor-k8s/tsg010-get-kubernetes-contexts.ipynb) to resolve this issue.'))\n",
                "        display(Markdown(f'HINT: Use [SOP011 - Set kubernetes configuration context](../common/sop011-set-kubernetes-context.ipynb) to resolve this issue.'))\n",
                "        raise\n",
                "\n",
                "print('The kubernetes namespace for your big data cluster is: ' + namespace)"
            ]
        },
        {
            "cell_type": "markdown",
            "metadata": {},
            "source": [
                "### Python function queries `controller` database and return results.\n",
                "\n",
                "### Create helper function to run `sqlcmd` against the controller database"
            ]
        },
        {
            "cell_type": "code",
            "execution_count": null,
            "metadata": {},
            "outputs": [],
            "source": [
                "import pandas\n",
                "from io import StringIO\n",
                "pandas.set_option('display.max_colwidth', -1)\n",
                "name = 'controldb-0'\n",
                "container = 'mssql-server'\n",
                "\n",
                "def run_sqlcmd(query):\n",
                "    command=f\"\"\"export SQLCMDPASSWORD=$(cat /var/run/secrets/credentials/mssql-sa-password/password);\n",
                "    /opt/mssql-tools/bin/sqlcmd -b -S . -U sa -Q \"SET NOCOUNT ON;\n",
                "    {query}\" -d controller  -s\"^\" -W > /tmp/out.csv; sed -i 2d /tmp/out.csv;\n",
                "    cat /tmp/out.csv\"\"\"\n",
                "    output=stream(api.connect_get_namespaced_pod_exec, name, namespace, command=['/bin/sh', '-c', command], container=container, stderr=True, stdout=True)\n",
                "    return str(output)\n",
                "print(\"Function defined\")"
            ]
        },
        {
            "cell_type": "markdown",
            "metadata": {},
            "source": [
                "### Delete a key\n",
                "\n",
                "The following cell will delete a key for HDFS encryption at rest. Once\n",
                "the key is deleted, it cannot be undone. If the provided key name for\n",
                "deletion exists, it will be deleted but if the key doesn\u2019t exist, then\n",
                "no operation will be performed."
            ]
        },
        {
            "cell_type": "code",
            "execution_count": null,
            "metadata": {},
            "outputs": [],
            "source": [
                "select_query = \"\"\" select count(*) from Credentials where application_metadata like '%hdfsvault-svc%'\n",
                "                and type in ('2', '3') and account_name = '{key_name_for_deletion}' \"\"\".format(key_name_for_deletion=key_to_be_deleted)\n",
                "result = run_sqlcmd(select_query)\n",
                "\n",
                "if(result == \"0\"):\n",
                "    print(f\"Key name not exists: {key_to_be_deleted}\")\n",
                "else:\n",
                "    delete_query = \"\"\"delete from Credentials where application_metadata like '%hdfsvault-svc%'\n",
                "                   and type in ('2', '3') and account_name = '{key_name_for_deletion}' \"\"\".format(key_name_for_deletion=key_to_be_deleted)\n",
                "    run_sqlcmd(delete_query)\n",
                "    print(\"Key with name {keyToBeDeleted} has been deleted.\".format(keyToBeDeleted = key_to_be_deleted));\n",
                "\n",
                "print(\"Delete Key(s) Operation Completed.\")"
            ]
        },
        {
            "cell_type": "code",
            "execution_count": null,
            "metadata": {},
            "outputs": [],
            "source": [
                "print('Notebook execution complete.')"
            ]
        }
    ],
    "nbformat": 4,
    "nbformat_minor": 5,
    "metadata": {
        "kernelspec": {
            "name": "python3",
            "display_name": "Python 3"
        },
        "azdata": {
            "side_effects": true
        }
    }
}