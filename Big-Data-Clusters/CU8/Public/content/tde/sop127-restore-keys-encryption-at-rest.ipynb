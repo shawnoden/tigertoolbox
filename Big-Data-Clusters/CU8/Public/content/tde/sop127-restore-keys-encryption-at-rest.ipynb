{
    "cells": [
        {
            "cell_type": "markdown",
            "metadata": {},
            "source": [
                "SOP0127 - Restore Keys For Encryption At Rest\n",
                "=============================================\n",
                "\n",
                "Description\n",
                "-----------\n",
                "\n",
                "Use this notebook to connect to the `controller` database and restore\n",
                "keys for encryption at rest.\n",
                "\n",
                "Steps\n",
                "-----\n",
                "\n",
                "### Parameters\n",
                "\n",
                "Set the `file_to_restore_from`, where we can restore your encryption\n",
                "keys from. Please make sure it has json file extension.\n",
                "\n",
                "Set the `certificate_protection_password`. This is the password which\n",
                "was used to encrypt your certificate."
            ]
        },
        {
            "cell_type": "code",
            "execution_count": null,
            "metadata": {
                "tags": [
                    "parameters"
                ]
            },
            "outputs": [],
            "source": [
                "import os.path\n",
                "import json\n",
                "\n",
                "file_to_restore_from = \"\" # Change to your path there.\n",
                "certificate_protection_password = \"your_password\"\n",
                "\n",
                "print(f\"Key(s) will be restored from: '{file_to_restore_from}'. Please make sure you have permission to access this path.\")\n",
                "\n",
                "if os.path.isfile(file_to_restore_from) == False:\n",
                "    raise SystemExit(f\"{file_to_restore_from} does not point to a valid file.\")\n",
                "\n",
                "with open(file_to_restore_from) as json_file:\n",
                "    try:\n",
                "        backup_json_data = json.load(json_file)\n",
                "    except ValueError:\n",
                "        raise SystemExit(f\"{file_to_restore_from} does not have JSON content\")\n"
            ]
        },
        {
            "cell_type": "markdown",
            "metadata": {},
            "source": [
                "### Instantiate Kubernetes client"
            ]
        },
        {
            "cell_type": "code",
            "execution_count": null,
            "metadata": {
                "tags": [
                    "hide_input"
                ]
            },
            "outputs": [],
            "source": [
                "# Instantiate the Python Kubernetes client into 'api' variable\n",
                "\n",
                "import os\n",
                "from IPython.display import Markdown\n",
                "\n",
                "try:\n",
                "    from kubernetes import client, config\n",
                "    from kubernetes.stream import stream\n",
                "\n",
                "    if \"KUBERNETES_SERVICE_PORT\" in os.environ and \"KUBERNETES_SERVICE_HOST\" in os.environ:\n",
                "        config.load_incluster_config()\n",
                "    else:\n",
                "        try:\n",
                "            config.load_kube_config()\n",
                "        except:\n",
                "            display(Markdown(f'HINT: Use [TSG118 - Configure Kubernetes config](../repair/tsg118-configure-kube-config.ipynb) to resolve this issue.'))\n",
                "            raise\n",
                "    api = client.CoreV1Api()\n",
                "\n",
                "    print('Kubernetes client instantiated')\n",
                "except ImportError:\n",
                "    display(Markdown(f'HINT: Use [SOP059 - Install Kubernetes Python module](../install/sop059-install-kubernetes-module.ipynb) to resolve this issue.'))\n",
                "    raise"
            ]
        },
        {
            "cell_type": "markdown",
            "metadata": {},
            "source": [
                "### Get the namespace for the big data cluster\n",
                "\n",
                "Get the namespace of the Big Data Cluster from the Kuberenetes API.\n",
                "\n",
                "**NOTE:**\n",
                "\n",
                "If there is more than one Big Data Cluster in the target Kubernetes\n",
                "cluster, then either:\n",
                "\n",
                "-   set \\[0\\] to the correct value for the big data cluster.\n",
                "-   set the environment variable AZDATA\\_NAMESPACE, before starting\n",
                "    Azure Data Studio."
            ]
        },
        {
            "cell_type": "code",
            "execution_count": null,
            "metadata": {
                "tags": [
                    "hide_input"
                ]
            },
            "outputs": [],
            "source": [
                "# Place Kubernetes namespace name for BDC into 'namespace' variable\n",
                "\n",
                "if \"AZDATA_NAMESPACE\" in os.environ:\n",
                "    namespace = os.environ[\"AZDATA_NAMESPACE\"]\n",
                "else:\n",
                "    try:\n",
                "        namespace = api.list_namespace(label_selector='MSSQL_CLUSTER').items[0].metadata.name\n",
                "    except IndexError:\n",
                "        from IPython.display import Markdown\n",
                "        display(Markdown(f'HINT: Use [TSG081 - Get namespaces (Kubernetes)](../monitor-k8s/tsg081-get-kubernetes-namespaces.ipynb) to resolve this issue.'))\n",
                "        display(Markdown(f'HINT: Use [TSG010 - Get configuration contexts](../monitor-k8s/tsg010-get-kubernetes-contexts.ipynb) to resolve this issue.'))\n",
                "        display(Markdown(f'HINT: Use [SOP011 - Set kubernetes configuration context](../common/sop011-set-kubernetes-context.ipynb) to resolve this issue.'))\n",
                "        raise\n",
                "\n",
                "print('The kubernetes namespace for your big data cluster is: ' + namespace)"
            ]
        },
        {
            "cell_type": "markdown",
            "metadata": {},
            "source": [
                "### Python function queries `controller` database and return results.\n",
                "\n",
                "### Create helper function to run `sqlcmd` against the controller database"
            ]
        },
        {
            "cell_type": "code",
            "execution_count": null,
            "metadata": {},
            "outputs": [],
            "source": [
                "import pandas\n",
                "from io import StringIO\n",
                "pandas.set_option('display.max_colwidth', -1)\n",
                "name = 'controldb-0'\n",
                "container = 'mssql-server'\n",
                "\n",
                "def run_sqlcmd(query, show_count):\n",
                "    \n",
                "    no_count_string=\"\"\n",
                "    no_count_suffix=\"\"\n",
                "    if(show_count == False):\n",
                "        no_count_string=\"SET NOCOUNT ON; \"\n",
                "        no_count_suffix = f\"\"\" | sed 2d\"\"\"\n",
                "\n",
                "    command=f\"\"\"export SQLCMDPASSWORD=$(cat /var/run/secrets/credentials/mssql-sa-password/password);\n",
                "    /opt/mssql-tools/bin/sqlcmd -b -S . -U sa -Q \"{no_count_string}\n",
                "    {query}\" -d controller  -s\"^\" -W {no_count_suffix}\n",
                "    \"\"\"\n",
                "    output=stream(api.connect_get_namespaced_pod_exec, name, namespace, command=['/bin/sh', '-c', command], container=container, stderr=True, stdout=True)\n",
                "    return str(output)\n",
                "print(\"Function 'run_sqlcmd' defined\")"
            ]
        },
        {
            "cell_type": "markdown",
            "metadata": {},
            "source": [
                "### Python function to execute kubernetes command."
            ]
        },
        {
            "cell_type": "code",
            "execution_count": null,
            "metadata": {},
            "outputs": [],
            "source": [
                "from io import StringIO\n",
                "name = 'controldb-0'\n",
                "container = 'mssql-server'\n",
                "\n",
                "def execute_k8scommand(command):\n",
                "    output=stream(api.connect_get_namespaced_pod_exec, name, namespace, command=['/bin/sh', '-c', command], container=container, stderr=True, stdout=True)\n",
                "    return str(output)\n",
                "print(\"Function 'execute_k8scommand' defined\")"
            ]
        },
        {
            "cell_type": "markdown",
            "metadata": {},
            "source": [
                "### Define function to check presence of keys."
            ]
        },
        {
            "cell_type": "code",
            "execution_count": null,
            "metadata": {},
            "outputs": [],
            "source": [
                "import json\n",
                "\n",
                "def can_import_keys(backup_json_file_path):\n",
                "  key_name_list = []\n",
                "\n",
                "  key_name_list = [f\"\"\"'{backup_entry[\"id\"]}'\"\"\" for backup_entry in backup_json_data]\n",
                "\n",
                "  keys_list_string = ','.join(key_name_list)\n",
                "  print(f\"\"\"Key names found in backup file {keys_list_string}\"\"\")\n",
                "  sql_check_existing_keys = f\"\"\"select count(*) from Credentials where account_name in ({keys_list_string}) and type in ('2','3')\"\"\"\n",
                "\n",
                "  count_existing_keys = run_sqlcmd(sql_check_existing_keys, False)\n",
                "\n",
                "  can_import = False;\n",
                "\n",
                "  if(0 == int(count_existing_keys)):\n",
                "      can_import = True;\n",
                "  else:\n",
                "      print(f\"\"\"One or more keys from the list {keys_list_string} already exist in the Control plane. Please delete all the keys before importing them.\"\"\");\n",
                "  \n",
                "  return can_import\n",
                "print(\"Function 'can_import_keys' defined\")"
            ]
        },
        {
            "cell_type": "markdown",
            "metadata": {},
            "source": [
                "### Generate in memory Base64URL encoded PFX without password protection."
            ]
        },
        {
            "cell_type": "code",
            "execution_count": null,
            "metadata": {},
            "outputs": [],
            "source": [
                "import base64\n",
                "\n",
                "def generate_unprotected_pfx(base64_encoded_pfx, password):\n",
                "    command=f\"\"\"\n",
                "        generateUnprotectedPfx() {{\n",
                "            {{ echo $1 | base64 -d | openssl pkcs12 -nocerts -nodes -passin pass:$(echo '{password}') 2>/dev/null ; \\\n",
                "            echo $1 | base64 -d | openssl pkcs12 -nokeys -passin pass:$(echo '{password}') 2>/dev/null ; }} \\\n",
                "            | openssl pkcs12 -export -password pass:$(echo '') 2>/dev/null | base64 -w 0\n",
                "        }}\n",
                "\n",
                "        generateUnprotectedPfx {base64_encoded_pfx}\n",
                "    \"\"\"\n",
                "\n",
                "    command_output=execute_k8scommand(command)\n",
                "\n",
                "    # Convert the base64 encoded string to a base64 url encoded string\n",
                "    decoded_certificate = base64.b64decode(command_output)\n",
                "    url_encoded_certificate = base64.urlsafe_b64encode(decoded_certificate); \n",
                "    return url_encoded_certificate.decode('utf-8')\n",
                "\n",
                "print(\"Function 'generate_unprotected_pfx' defined.\")"
            ]
        },
        {
            "cell_type": "markdown",
            "metadata": {},
            "source": [
                "### Restore encryption keys.\n",
                "\n",
                "Restore the keys from key backup json file, into the Big Data Cluster\n",
                "control plane."
            ]
        },
        {
            "cell_type": "code",
            "execution_count": null,
            "metadata": {},
            "outputs": [],
            "source": [
                "import json\n",
                "import base64\n",
                "\n",
                "if(can_import_keys(file_to_restore_from) == False):\n",
                "    from IPython.display import Markdown\n",
                "    print(\"The keys cannot be imported since one or more keys exist. Delete the keys and re-run this cell before proceeding\")\n",
                "    display(Markdown(f'HINT: Use [SOP0124 - List Keys For Encryption At Rest.](../tde/sop124-list-keys-encryption-at-rest.ipynb) to resolve this issue.'))\n",
                "    display(Markdown(f'HINT: Use [SOP0125 - Delete Key For Encryption At Rest](../tde/sop125-delete-keys-encryption-at-rest.ipynb) to resolve this issue.'))\n",
                "else:\n",
                "    key_password = base64.b64decode(str(api.read_namespaced_secret(\"controller-db-rw-secret\", namespace).data['encryptionPassword'])).decode('utf-8')\n",
                "    tsql_values_template = \"\"\"('{account_name}', {type}, EncryptByKey(Key_GUID('ControllerDbSymmetricKey'), N'{secret_credential}'), N'{application_metadata}')\"\"\"\n",
                "    value_list = []\n",
                "    \n",
                "    for backup_entry in backup_json_data:\n",
                "        secret_value = \"\"\n",
                "        entry_type = backup_entry[\"type\"]\n",
                "        if(entry_type == 2):\n",
                "            secret_value = backup_entry[\"value\"]\n",
                "        elif(entry_type == 3):\n",
                "            encoded_backup_certificate = backup_entry[\"value\"]\n",
                "            base64url_encoded_certificate = generate_unprotected_pfx(encoded_backup_certificate, certificate_protection_password)\n",
                "            secret_value = base64url_encoded_certificate\n",
                "        else:\n",
                "            raise SystemExit(f\"\"\"Invalid type found {entry_type}\"\"\")\n",
                "        \n",
                "        value_list.append(tsql_values_template.format(account_name = backup_entry[\"id\"], type = backup_entry[\"type\"], secret_credential = secret_value, application_metadata = backup_entry[\"tags\"].replace('\"', '\\\\\"')))\n",
                "        print(f\"\"\"Encryption Key {backup_entry[\"id\"]} processed.\"\"\")\n",
                "    \n",
                "    tsql_value_string = ','.join(value_list)\n",
                "    tsql_insert_statement = f\"\"\"\n",
                "    OPEN SYMMETRIC KEY ControllerDbSymmetricKey DECRYPTION BY PASSWORD = '{key_password}'\n",
                "    INSERT INTO Credentials VALUES {tsql_value_string}\n",
                "    \"\"\"\n",
                "\n",
                "    run_output = run_sqlcmd(tsql_insert_statement, True)\n",
                "    print(run_output)\n"
            ]
        },
        {
            "cell_type": "code",
            "execution_count": null,
            "metadata": {},
            "outputs": [],
            "source": [
                "print('Notebook execution complete.')"
            ]
        }
    ],
    "nbformat": 4,
    "nbformat_minor": 5,
    "metadata": {
        "kernelspec": {
            "name": "python3",
            "display_name": "Python 3"
        },
        "azdata": {
            "side_effects": false
        }
    }
}