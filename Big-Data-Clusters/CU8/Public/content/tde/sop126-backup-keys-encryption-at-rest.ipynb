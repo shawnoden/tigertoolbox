{
    "cells": [
        {
            "cell_type": "markdown",
            "metadata": {},
            "source": [
                "SOP0126 - Backup Keys For Encryption At Rest\n",
                "============================================\n",
                "\n",
                "Description\n",
                "-----------\n",
                "\n",
                "Use this notebook to connect to the `controller` database and backup\n",
                "keys for encryption at rest.\n",
                "\n",
                "Steps\n",
                "-----\n",
                "\n",
                "### Parameters\n",
                "\n",
                "Set the `backup_file_path`. This is where the backup file will be\n",
                "placed. Please make sure it has json file extension. Set the\n",
                "`password_to_encrypt`. This is the password which will be used to\n",
                "encrypt your certificate."
            ]
        },
        {
            "cell_type": "code",
            "execution_count": null,
            "metadata": {
                "tags": [
                    "parameters"
                ]
            },
            "outputs": [],
            "source": [
                "import os\n",
                "import tempfile\n",
                "\n",
                "backup_file_path = os.path.join(tempfile.mkdtemp(), 'hadoopEncryptionKeys.json') # Change path there.\n",
                "print(f\"The keys will be backed up at {backup_file_path}\")\n",
                "password_to_encrypt = \"your_password\"\n",
                "print(f\"Key(s) will be saved at this path: '{backup_file_path}'. Please make sure you have permission to access this path.\")"
            ]
        },
        {
            "cell_type": "markdown",
            "metadata": {},
            "source": [
                "### Instantiate Kubernetes client"
            ]
        },
        {
            "cell_type": "code",
            "execution_count": null,
            "metadata": {
                "tags": [
                    "hide_input"
                ]
            },
            "outputs": [],
            "source": [
                "# Instantiate the Python Kubernetes client into 'api' variable\n",
                "\n",
                "import os\n",
                "from IPython.display import Markdown\n",
                "\n",
                "try:\n",
                "    from kubernetes import client, config\n",
                "    from kubernetes.stream import stream\n",
                "\n",
                "    if \"KUBERNETES_SERVICE_PORT\" in os.environ and \"KUBERNETES_SERVICE_HOST\" in os.environ:\n",
                "        config.load_incluster_config()\n",
                "    else:\n",
                "        try:\n",
                "            config.load_kube_config()\n",
                "        except:\n",
                "            display(Markdown(f'HINT: Use [TSG118 - Configure Kubernetes config](../repair/tsg118-configure-kube-config.ipynb) to resolve this issue.'))\n",
                "            raise\n",
                "    api = client.CoreV1Api()\n",
                "\n",
                "    print('Kubernetes client instantiated')\n",
                "except ImportError:\n",
                "    display(Markdown(f'HINT: Use [SOP059 - Install Kubernetes Python module](../install/sop059-install-kubernetes-module.ipynb) to resolve this issue.'))\n",
                "    raise"
            ]
        },
        {
            "cell_type": "markdown",
            "metadata": {},
            "source": [
                "### Get the namespace for the big data cluster\n",
                "\n",
                "Get the namespace of the Big Data Cluster from the Kuberenetes API.\n",
                "\n",
                "**NOTE:**\n",
                "\n",
                "If there is more than one Big Data Cluster in the target Kubernetes\n",
                "cluster, then either:\n",
                "\n",
                "-   set \\[0\\] to the correct value for the big data cluster.\n",
                "-   set the environment variable AZDATA\\_NAMESPACE, before starting\n",
                "    Azure Data Studio."
            ]
        },
        {
            "cell_type": "code",
            "execution_count": null,
            "metadata": {
                "tags": [
                    "hide_input"
                ]
            },
            "outputs": [],
            "source": [
                "# Place Kubernetes namespace name for BDC into 'namespace' variable\n",
                "\n",
                "if \"AZDATA_NAMESPACE\" in os.environ:\n",
                "    namespace = os.environ[\"AZDATA_NAMESPACE\"]\n",
                "else:\n",
                "    try:\n",
                "        namespace = api.list_namespace(label_selector='MSSQL_CLUSTER').items[0].metadata.name\n",
                "    except IndexError:\n",
                "        from IPython.display import Markdown\n",
                "        display(Markdown(f'HINT: Use [TSG081 - Get namespaces (Kubernetes)](../monitor-k8s/tsg081-get-kubernetes-namespaces.ipynb) to resolve this issue.'))\n",
                "        display(Markdown(f'HINT: Use [TSG010 - Get configuration contexts](../monitor-k8s/tsg010-get-kubernetes-contexts.ipynb) to resolve this issue.'))\n",
                "        display(Markdown(f'HINT: Use [SOP011 - Set kubernetes configuration context](../common/sop011-set-kubernetes-context.ipynb) to resolve this issue.'))\n",
                "        raise\n",
                "\n",
                "print('The kubernetes namespace for your big data cluster is: ' + namespace)"
            ]
        },
        {
            "cell_type": "markdown",
            "metadata": {},
            "source": [
                "### Python function queries `controller` database and return results."
            ]
        },
        {
            "cell_type": "code",
            "execution_count": null,
            "metadata": {},
            "outputs": [],
            "source": [
                "import pandas\n",
                "from io import StringIO\n",
                "pandas.set_option('display.max_colwidth', -1)\n",
                "name = 'controldb-0'\n",
                "container = 'mssql-server'\n",
                "\n",
                "def get_dataframe(query):\n",
                "    # Executes the SQL Query and created a ^ separated data set. The first row has header and the following rows have data.\n",
                "    command=f\"\"\"export SQLCMDPASSWORD=$(cat /var/run/secrets/credentials/mssql-sa-password/password);\n",
                "    /opt/mssql-tools/bin/sqlcmd -b -S . -U sa -Q \"SET NOCOUNT ON;\n",
                "    {query}\" -d controller  -s\"^\" -W | sed 2d\n",
                "    \"\"\"\n",
                "    output=stream(api.connect_get_namespaced_pod_exec, name, namespace, command=['/bin/sh', '-c', command], container=container, stderr=True, stdout=True)\n",
                "    return pandas.read_csv(StringIO(output), sep='^')\n",
                "\n",
                "print(\"Function 'get_dataframe' defined\")"
            ]
        },
        {
            "cell_type": "markdown",
            "metadata": {},
            "source": [
                "### Python function to execute kubernetes command."
            ]
        },
        {
            "cell_type": "code",
            "execution_count": null,
            "metadata": {},
            "outputs": [],
            "source": [
                "pod_name = 'controldb-0'\n",
                "container = 'mssql-server'\n",
                "\n",
                "def execute_k8scommand(command):\n",
                "    output=stream(api.connect_get_namespaced_pod_exec, pod_name, namespace, command=['/bin/sh', '-c', command], container=container, stderr=True, stdout=True)\n",
                "    return str(output)\n",
                "print(\"Function 'execute_k8scommand' defined\")"
            ]
        },
        {
            "cell_type": "markdown",
            "metadata": {},
            "source": [
                "### Python function to protect certificate.\n",
                "\n",
                "Python function to password protect a Base64 Url encoded certificate.\n",
                "The certificates are the container for the private key which protects\n",
                "the Key Encryption Keys. These certificates should be password protected\n",
                "before they are exported."
            ]
        },
        {
            "cell_type": "code",
            "execution_count": null,
            "metadata": {},
            "outputs": [],
            "source": [
                "import sys\n",
                "import base64\n",
                "\n",
                "def generated_password_protected_certificate(encoded_certificate, password):\n",
                "    # The certificate is base64 URL encoded. They need to be decoded first.\n",
                "    decoded_bytes = base64.urlsafe_b64decode(encoded_certificate + \"=\" * (4 - len(encoded_certificate) % 4))\n",
                "    base64_encoded_certificate = base64.b64encode(decoded_bytes).decode(\"utf-8\");\n",
                "\n",
                "    # Use the kubernetes container to generate a PEM file without persisting to disk, to recreate the PFX with password.\n",
                "    password_protected_pfx_generation_command = f\"\"\"\n",
                "    generateEncodedPfx() {{ \\\n",
                "        {{ echo $1 | base64 -d | openssl pkcs12 -nocerts -nodes -passin pass:$(echo '') 2>/dev/null ; \\\n",
                "            echo $1 | base64 -d | openssl pkcs12 -nokeys -passin pass:$(echo '') 2>/dev/null ; }} \\\n",
                "            | openssl pkcs12 -export -passout pass:{password} 2>/dev/null \\\n",
                "            | base64 -w 0 \n",
                "        }}\n",
                "    generateEncodedPfx {base64_encoded_certificate}\n",
                "    \"\"\"\n",
                "\n",
                "    password_protected_certificate = execute_k8scommand(password_protected_pfx_generation_command)\n",
                "\n",
                "    return password_protected_certificate\n",
                "\n",
                "print(\"Function 'generated_password_protected_certificate' defined.\")\n"
            ]
        },
        {
            "cell_type": "markdown",
            "metadata": {},
            "source": [
                "### Backup encryption keys."
            ]
        },
        {
            "cell_type": "code",
            "execution_count": null,
            "metadata": {},
            "outputs": [],
            "source": [
                "import json\n",
                "import base64\n",
                "\n",
                "symmetric_key_protection_password = base64.b64decode(str(api.read_namespaced_secret(\"controller-db-rw-secret\", namespace).data['encryptionPassword'])).decode('utf-8')\n",
                "\n",
                "tsql_template = \"\"\"\n",
                "OPEN SYMMETRIC KEY ControllerDbSymmetricKey DECRYPTION BY PASSWORD = '{0}'\n",
                "select account_name, CAST(DecryptByKey([encrypted_password]) AS NVARCHAR(4000)) as unencrypted_password, application_metadata from Credentials where application_metadata like '%hdfsvault-svc%' and type = '{1}'\n",
                "\"\"\"\n",
                "\n",
                "tsql_secrets_retrieval = tsql_template.format(symmetric_key_protection_password, '2')\n",
                "df_secrets = get_dataframe(tsql_secrets_retrieval)\n",
                "\n",
                "tsql_certificate_retrieval = tsql_template.format(symmetric_key_protection_password, '3')\n",
                "df_cert = get_dataframe(tsql_certificate_retrieval)\n",
                "\n",
                "with open(backup_file_path, \"w+\") as file:\n",
                "    json_keys_entries = []\n",
                "    for index, row in df_secrets.iterrows():\n",
                "        data = {'id' : row[0], 'tags': row[2], 'value': row[1], 'type': 2}\n",
                "        json_keys_entries.append(data)\n",
                "\n",
                "    for index, row in df_cert.iterrows():\n",
                "        data = {'id' : row[0], 'tags': row[2], 'value': generated_password_protected_certificate(row[1], password_to_encrypt), 'type': 3}\n",
                "        json_keys_entries.append(data)\n",
                "\n",
                "    json.dump(json_keys_entries, file)\n",
                "\n",
                "print(f\"Encryption Key(s) Backed up at location: {backup_file_path}\")"
            ]
        },
        {
            "cell_type": "code",
            "execution_count": null,
            "metadata": {},
            "outputs": [],
            "source": [
                "print('Notebook execution complete.')"
            ]
        }
    ],
    "nbformat": 4,
    "nbformat_minor": 5,
    "metadata": {
        "kernelspec": {
            "name": "python3",
            "display_name": "Python 3"
        },
        "azdata": {
            "side_effects": false
        }
    }
}