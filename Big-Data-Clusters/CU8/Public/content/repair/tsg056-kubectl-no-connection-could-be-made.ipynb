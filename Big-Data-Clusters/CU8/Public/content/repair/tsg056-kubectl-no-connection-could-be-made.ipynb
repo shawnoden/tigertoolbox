{
    "cells": [
        {
            "cell_type": "markdown",
            "metadata": {},
            "source": [
                "TSG056 - Kubectl fails with No connection could be made because the target machine actively refused it\n",
                "======================================================================================================\n",
                "\n",
                "The `kubectl` command line interface fails with:\n",
                "\n",
                "> kubectl get nodes\n",
                ">\n",
                "> Unable to connect to the server: dial tcp 10.91.136.142:6443:\n",
                "> connectex: No connection could be made because the target machine\n",
                "> actively refused it.\n",
                "\n",
                "Description\n",
                "-----------\n",
                "\n",
                "This is usually because the `.kube/config` file has become\n",
                "misconfigured. On Windows the config file is usually in the\n",
                "`c:\\users\\%username%\\.kube` folder. On Linux the config file is usually\n",
                "in the `~/src/.kube` folder.\n",
                "\n",
                "This issue often happens if the Kubernetes cluster has been reset, and\n",
                "the local `.kube\\config` is now out of date. To resolve this issue, try\n",
                "making a copy of he current `.kube\\config` file, and then copy the\n",
                "`~/.kube/config` from the Kubernetes master instance to the local\n",
                "machine (as `.kube\\config`)."
            ]
        }
    ],
    "nbformat": 4,
    "nbformat_minor": 5,
    "metadata": {
        "kernelspec": {
            "name": "python3",
            "display_name": "Python 3"
        },
        "azdata": {
            "side_effects": true,
            "symlink": true
        }
    }
}