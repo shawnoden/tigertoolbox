{
    "cells": [
        {
            "cell_type": "markdown",
            "metadata": {},
            "source": [
                "TSG126 - azdata fails with \u2018accept the license terms to use this product\u2019\n",
                "=========================================================================\n",
                "\n",
                "Description\n",
                "-----------\n",
                "\n",
                "When running an `azdata` command, it fails with:\n",
                "\n",
                "    ERROR: Please accept the license terms to use this product through the prompt in\n",
                "    an interactive env, or through the environment variable ACCEPT_EULA set \n",
                "    to 'yes' in a non-interactive env.\n",
                "\n",
                "### Steps\n",
                "\n",
                "Run `azdata` once with the ACCEPT\\_EULA command, e.g:"
            ]
        },
        {
            "cell_type": "code",
            "execution_count": null,
            "metadata": {},
            "outputs": [],
            "source": [
                "os.environ[\"ACCEPT_EULA\"]\n",
                "\n",
                "run('azdata bdc config list')"
            ]
        },
        {
            "cell_type": "code",
            "execution_count": null,
            "metadata": {},
            "outputs": [],
            "source": [
                "print('Notebook execution complete.')"
            ]
        }
    ],
    "nbformat": 4,
    "nbformat_minor": 5,
    "metadata": {
        "kernelspec": {
            "name": "python3",
            "display_name": "Python 3"
        },
        "azdata": {
            "side_effects": false
        }
    }
}