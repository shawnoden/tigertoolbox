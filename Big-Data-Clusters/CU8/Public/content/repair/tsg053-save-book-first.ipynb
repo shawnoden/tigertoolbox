{
    "cells": [
        {
            "cell_type": "markdown",
            "metadata": {},
            "source": [
                "TSG053 - ADS Provided Books must be saved before use\n",
                "====================================================\n",
                "\n",
                "Description\n",
                "-----------\n",
                "\n",
                "Azure Data Studio comes with some \u201cProvided Books\u201d. These books must be\n",
                "saved first, otherwise some notebooks will not run correctly.\n",
                "\n",
                "NOTE: The usability in this area could be better, this is being tracked\n",
                "under:\n",
                "\n",
                "-   https://github.com/microsoft/azuredatastudio/issues/10500\n",
                "\n",
                "### Steps\n",
                "\n",
                "To save a provided book, click the \u201cSave Book\u201d icon (this icon is to the\n",
                "right of the book title, at the top of the tree viewer in the \u201cProvided\n",
                "Books\u201d section), and save the book to the local machine"
            ]
        }
    ],
    "nbformat": 4,
    "nbformat_minor": 5,
    "metadata": {
        "kernelspec": {
            "name": "python3",
            "display_name": "Python 3"
        },
        "azdata": {
            "side_effects": false
        }
    }
}