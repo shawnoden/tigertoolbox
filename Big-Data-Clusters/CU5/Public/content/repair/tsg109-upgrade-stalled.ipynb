{
    "cells": [
        {
            "cell_type": "markdown",
            "metadata": {},
            "source": [
                "TSG109 - Set upgrade timeouts\n",
                "=============================\n",
                "\n",
                "Description\n",
                "-----------\n",
                "\n",
                "When viewing the upgrade configmap it may report \u201cController upgrade\n",
                "stalled\u201d or \u201cControllerDb upgrade has timed out\u201d, e.g.:\n",
                "\n",
                "> data: controller-upgrade:\n",
                "> \u2018{\u201cupgradeInitiatedTimestamp\u201d:\u201c2019-12-19T21:07:37.1608034+00:00\u201d,\u201clastTransitionTimestamp\u201d:\u201c2019-12-19T21:15:08.7304489+00:00\u201d,\u201ctargetVersion\u201d:\u201c<image_tag>\u201d,\u201ccurrentVersion\u201d:\u201c15.0.4003.10009\\_2\u201d,\u201ctargetRepository\u201d:\u201c<image_name>\u201d,\u201ccurrentRepository\u201d:\u201c<image_name>\u201d,\u201ccurrentState\u201d:\u201cNoUpgradeInProgress\u201d,\u201cpreviousState\u201d:\u201cRollingBackController\u201d,\u201cmessage\u201d:\u201cController\n",
                "> upgrade\n",
                "> stalled.\u201d,\u201ccontrollerUpgradeTimeoutInMinutes\u201d:5,\u201ccomponentUpgradeTimeoutInMinutes\u201d:30,\u201ctotalUpgradeTimeoutInMinutes\u201d:30,\u201cstableUptimeThresholdInMinutes\u201d:2}\u2019\n",
                "\n",
                "or\n",
                "\n",
                "> data: controller-upgrade:\n",
                "> \u2018{\u201cupgradeInitiatedTimestamp\u201d:\u201c2019-12-19T22:12:44.9427392+00:00\u201d,\u201clastTransitionTimestamp\u201d:\u201c2019-12-19T22:25:13.9526729+00:00\u201d,\u201ctargetVersion\u201d:\u201c<image_tag>\u201d,\u201ccurrentVersion\u201d:\u201c<image_tag>\u201d,\u201ctargetRepository\u201d:\u201c<image_name>\u201d:\u201c<image_name>\u201d,\u201ccurrentState\u201d:\u201cNoUpgradeInProgress\u201d,\u201cpreviousState\u201d:\u201cRollingBackController\u201d,\u201cmessage\u201d:\u201cControllerDb\n",
                "> upgrade has timed out. Rolling back to version\n",
                "> <image_tag>.\u201d,\u201ccontrollerUpgradeTimeoutInMinutes\u201d:5,\u201ccomponentUpgradeTimeoutInMinutes\u201d:30,\u201ctotalUpgradeTimeoutInMinutes\u201d:30,\u201cstableUptimeThresholdInMinutes\u201d:2}\u2019\n",
                "\n",
                "This can happen if it takes too long to pull the image. By default\n",
                "upgrade allows for \\~5 minutes. This setting can be increased by editing\n",
                "the configmap, and bumping the field `controllerUpgradeTimeoutInMinutes`\n",
                "to a higher value.\n",
                "\n",
                "Recommend:\n",
                "\n",
                "-   Increase `controllerUpgradeTimeoutInMinutes` field to 15 minutes,\n",
                "    depending on network speed.\n",
                "-   The `componentUpgradeTimeoutInMinutes` field may also need a bump,\n",
                "    because if the image pull for controller is taking a while, it\u2019s\n",
                "    likely that the downloads for Hadoop and mssql-server images might\n",
                "    take a while as well.\n",
                "\n",
                "Steps\n",
                "-----\n",
                "\n",
                "Use these steps to troubleshoot the issue.\n",
                "\n",
                "### Parameters"
            ]
        },
        {
            "cell_type": "code",
            "execution_count": null,
            "metadata": {
                "tags": [
                    "parameters"
                ]
            },
            "outputs": [],
            "source": [
                "controller_timeout=20\n",
                "controller_total_timeout=40\n",
                "component_timeout=45"
            ]
        },
        {
            "cell_type": "markdown",
            "metadata": {},
            "source": [
                "### Instantiate Kubernetes client"
            ]
        },
        {
            "cell_type": "code",
            "execution_count": null,
            "metadata": {
                "tags": [
                    "hide_input"
                ]
            },
            "outputs": [],
            "source": [
                "# Instantiate the Python Kubernetes client into 'api' variable\n",
                "\n",
                "import os\n",
                "\n",
                "try:\n",
                "    from kubernetes import client, config\n",
                "    from kubernetes.stream import stream\n",
                "\n",
                "    if \"KUBERNETES_SERVICE_PORT\" in os.environ and \"KUBERNETES_SERVICE_HOST\" in os.environ:\n",
                "        config.load_incluster_config()\n",
                "    else:\n",
                "        try:\n",
                "            config.load_kube_config()\n",
                "        except:\n",
                "            display(Markdown(f'HINT: Use [TSG118 - Configure Kubernetes config](../repair/tsg118-configure-kube-config.ipynb) to resolve this issue.'))\n",
                "            raise\n",
                "    api = client.CoreV1Api()\n",
                "\n",
                "    print('Kubernetes client instantiated')\n",
                "except ImportError:\n",
                "    from IPython.display import Markdown\n",
                "    display(Markdown(f'HINT: Use [SOP059 - Install Kubernetes Python module](../install/sop059-install-kubernetes-module.ipynb) to resolve this issue.'))\n",
                "    raise"
            ]
        },
        {
            "cell_type": "markdown",
            "metadata": {},
            "source": [
                "### Get the namespace for the big data cluster\n",
                "\n",
                "Get the namespace of the Big Data Cluster from the Kuberenetes API.\n",
                "\n",
                "**NOTE:**\n",
                "\n",
                "If there is more than one Big Data Cluster in the target Kubernetes\n",
                "cluster, then either:\n",
                "\n",
                "-   set \\[0\\] to the correct value for the big data cluster.\n",
                "-   set the environment variable AZDATA\\_NAMESPACE, before starting\n",
                "    Azure Data Studio."
            ]
        },
        {
            "cell_type": "code",
            "execution_count": null,
            "metadata": {
                "tags": [
                    "hide_input"
                ]
            },
            "outputs": [],
            "source": [
                "# Place Kubernetes namespace name for BDC into 'namespace' variable\n",
                "\n",
                "if \"AZDATA_NAMESPACE\" in os.environ:\n",
                "    namespace = os.environ[\"AZDATA_NAMESPACE\"]\n",
                "else:\n",
                "    try:\n",
                "        namespace = api.list_namespace(label_selector='MSSQL_CLUSTER').items[0].metadata.name\n",
                "    except IndexError:\n",
                "        from IPython.display import Markdown\n",
                "        display(Markdown(f'HINT: Use [TSG081 - Get namespaces (Kubernetes)](../monitor-k8s/tsg081-get-kubernetes-namespaces.ipynb) to resolve this issue.'))\n",
                "        display(Markdown(f'HINT: Use [TSG010 - Get configuration contexts](../monitor-k8s/tsg010-get-kubernetes-contexts.ipynb) to resolve this issue.'))\n",
                "        display(Markdown(f'HINT: Use [SOP011 - Set kubernetes configuration context](../common/sop011-set-kubernetes-context.ipynb) to resolve this issue.'))\n",
                "        raise\n",
                "\n",
                "print('The kubernetes namespace for your big data cluster is: ' + namespace)"
            ]
        },
        {
            "cell_type": "markdown",
            "metadata": {},
            "source": [
                "### Set upgrade timeouts\n",
                "\n",
                "Set the timeouts for upgrades. The timeout settings are as follows\n",
                "\n",
                "-   controllerUpgradeTimeoutInMinutes: sets the max amount of time for\n",
                "    the controller or controllerdb to finish upgrading\n",
                "-   totalUpgradeTimeoutInMinutes: sets the max amount of time to wait\n",
                "    for both the controller and controllerdb to complete their upgrade\n",
                "-   componentUpgradeTimeoutInMinutes: sets the max amount of time\n",
                "    allowed for subsequent phases of the upgrade to complete"
            ]
        },
        {
            "cell_type": "code",
            "execution_count": null,
            "metadata": {},
            "outputs": [],
            "source": [
                "import json\n",
                "\n",
                "upgrade_config_map = api.read_namespaced_config_map(\"controller-upgrade-configmap\", namespace)\n",
                "\n",
                "upgrade_config = json.loads(upgrade_config_map.data[\"controller-upgrade\"])\n",
                "upgrade_config[\"controllerUpgradeTimeoutInMinutes\"] = controller_timeout\n",
                "upgrade_config[\"totalUpgradeTimeoutInMinutes\"] = controller_total_timeout\n",
                "upgrade_config[\"componentUpgradeTimeoutInMinutes\"] = component_timeout\n",
                "upgrade_config_map.data[\"controller-upgrade\"] = json.dumps(upgrade_config)\n",
                "\n",
                "api.patch_namespaced_config_map(\"controller-upgrade-configmap\", namespace, upgrade_config_map)"
            ]
        },
        {
            "cell_type": "code",
            "execution_count": null,
            "metadata": {},
            "outputs": [],
            "source": [
                "print('Notebook execution complete.')"
            ]
        },
        {
            "cell_type": "markdown",
            "metadata": {},
            "source": [
                "Related\n",
                "-------\n",
                "\n",
                "-   [TSG108 - View the controller upgrade config\n",
                "    map](../diagnose/tsg108-controller-failed-to-upgrade.ipynb)"
            ]
        }
    ],
    "nbformat": 4,
    "nbformat_minor": 5,
    "metadata": {
        "kernelspec": {
            "name": "python3",
            "display_name": "Python 3"
        },
        "azdata": {
            "side_effects": true,
            "expert": {
                "rules": [
                    [
                        "TSG108",
                        "code",
                        "stream",
                        "name",
                        "stdout",
                        "text",
                        ".\\*upgrade stalled"
                    ],
                    [
                        "TSG108",
                        "code",
                        "stream",
                        "name",
                        "stdout",
                        "text",
                        ".\\*upgrade has timed out"
                    ]
                ]
            },
            "symlink": true
        }
    }
}