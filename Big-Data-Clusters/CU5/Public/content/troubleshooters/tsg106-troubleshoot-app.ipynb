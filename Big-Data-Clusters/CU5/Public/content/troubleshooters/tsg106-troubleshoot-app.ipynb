{
    "cells": [
        {
            "cell_type": "markdown",
            "metadata": {},
            "source": [
                "TSG106 - App troubleshooter\n",
                "===========================\n",
                "\n",
                "Description\n",
                "-----------\n",
                "\n",
                "Follow these steps to troubleshoot App-Deploy issues\n",
                "\n",
                "Steps\n",
                "-----\n",
                "\n",
                "### Run through the App-Deploy sample notebook\n",
                "\n",
                "Run through this sample nootebok to incrementally verify each major\n",
                "component of the App-Deploy infrastructure in the Big Data Cluster. If\n",
                "the sample hits problems, it will HINT the next TSG to run to resolve\n",
                "the issue.\n",
                "\n",
                "-   [SAM010 - App using azdata](../sample/sam010-app-using-azdata.ipynb)\n",
                "\n",
                "Related\n",
                "-------\n",
                "\n",
                "-   [TSG100 - The Big Data Cluster\n",
                "    troubleshooter](../troubleshooters/tsg100-troubleshoot-bdc.ipynb)"
            ]
        }
    ],
    "nbformat": 4,
    "nbformat_minor": 5,
    "metadata": {
        "kernelspec": {
            "name": "python3",
            "display_name": "Python 3"
        },
        "azdata": {
            "side_effects": false
        }
    }
}