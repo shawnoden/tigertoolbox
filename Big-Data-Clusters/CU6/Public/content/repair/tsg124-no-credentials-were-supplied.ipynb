{
    "cells": [
        {
            "cell_type": "markdown",
            "metadata": {},
            "source": [
                "TSG124 - \u2018No credentials were supplied\u2019 error from azdata login\n",
                "===============================================================\n",
                "\n",
                "Description\n",
                "-----------\n",
                "\n",
                "When running `azdata login` is fails with:\n",
                "\n",
                "    ERROR: No credentials were supplied, or the credentials were unavailable or inaccessible.\n",
                "\n",
                "### Steps\n",
                "\n",
                "-   When using `azdata login` from Windows, ensure the machine is domain\n",
                "    joined, and the user that is logged in is part of the same domain as\n",
                "    the domain the Big Data Cluster is joined to, or the domain the user\n",
                "    is part of has a trust relationship with the domain the Big Data\n",
                "    Cluster is part of.\n",
                "-   When using `azdata login` from Linux, ensure the the user has logged\n",
                "    into the domain, using a Kerberos client such as `kinit`."
            ]
        }
    ],
    "nbformat": 4,
    "nbformat_minor": 5,
    "metadata": {
        "kernelspec": {
            "name": "python3",
            "display_name": "Python 3"
        },
        "azdata": {
            "side_effects": false
        }
    }
}