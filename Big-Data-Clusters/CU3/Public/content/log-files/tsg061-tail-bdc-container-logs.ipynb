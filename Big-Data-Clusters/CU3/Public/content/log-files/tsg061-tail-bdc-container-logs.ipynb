{
    "cells": [
        {
            "cell_type": "markdown",
            "metadata": {},
            "source": [
                "TSG061 - Get tail of all container logs for pods in BDC namespace\n",
                "=================================================================\n",
                "\n",
                "Steps\n",
                "-----\n",
                "\n",
                "### Parameters"
            ]
        },
        {
            "cell_type": "code",
            "execution_count": null,
            "metadata": {
                "tags": [
                    "parameters"
                ]
            },
            "outputs": [],
            "source": [
                "since_seconds = 60 * 60 * 1 # the last hour\n",
                "coalesce_duplicates = True"
            ]
        },
        {
            "cell_type": "markdown",
            "metadata": {},
            "source": [
                "### Instantiate Kubernetes client"
            ]
        },
        {
            "cell_type": "code",
            "execution_count": null,
            "metadata": {
                "tags": [
                    "hide_input"
                ]
            },
            "outputs": [],
            "source": [
                "# Instantiate the Python Kubernetes client into 'api' variable\n",
                "\n",
                "import os\n",
                "\n",
                "try:\n",
                "    from kubernetes import client, config\n",
                "    from kubernetes.stream import stream\n",
                "\n",
                "    if \"KUBERNETES_SERVICE_PORT\" in os.environ and \"KUBERNETES_SERVICE_HOST\" in os.environ:\n",
                "        config.load_incluster_config()\n",
                "    else:\n",
                "        try:\n",
                "            config.load_kube_config()\n",
                "        except:\n",
                "            display(Markdown(f'HINT: Use [TSG118 - Configure Kubernetes config](../repair/tsg118-configure-kube-config.ipynb) to resolve this issue.'))\n",
                "            raise\n",
                "    api = client.CoreV1Api()\n",
                "\n",
                "    print('Kubernetes client instantiated')\n",
                "except ImportError:\n",
                "    from IPython.display import Markdown\n",
                "    display(Markdown(f'HINT: Use [SOP059 - Install Kubernetes Python module](../install/sop059-install-kubernetes-module.ipynb) to resolve this issue.'))\n",
                "    raise"
            ]
        },
        {
            "cell_type": "markdown",
            "metadata": {},
            "source": [
                "### Get the namespace for the big data cluster\n",
                "\n",
                "Get the namespace of the Big Data Cluster from the Kuberenetes API.\n",
                "\n",
                "**NOTE:**\n",
                "\n",
                "If there is more than one Big Data Cluster in the target Kubernetes\n",
                "cluster, then either:\n",
                "\n",
                "-   set \\[0\\] to the correct value for the big data cluster.\n",
                "-   set the environment variable AZDATA\\_NAMESPACE, before starting\n",
                "    Azure Data Studio."
            ]
        },
        {
            "cell_type": "code",
            "execution_count": null,
            "metadata": {
                "tags": [
                    "hide_input"
                ]
            },
            "outputs": [],
            "source": [
                "# Place Kubernetes namespace name for BDC into 'namespace' variable\n",
                "\n",
                "if \"AZDATA_NAMESPACE\" in os.environ:\n",
                "    namespace = os.environ[\"AZDATA_NAMESPACE\"]\n",
                "else:\n",
                "    try:\n",
                "        namespace = api.list_namespace(label_selector='MSSQL_CLUSTER').items[0].metadata.name\n",
                "    except IndexError:\n",
                "        from IPython.display import Markdown\n",
                "        display(Markdown(f'HINT: Use [TSG081 - Get namespaces (Kubernetes)](../monitor-k8s/tsg081-get-kubernetes-namespaces.ipynb) to resolve this issue.'))\n",
                "        display(Markdown(f'HINT: Use [TSG010 - Get configuration contexts](../monitor-k8s/tsg010-get-kubernetes-contexts.ipynb) to resolve this issue.'))\n",
                "        display(Markdown(f'HINT: Use [SOP011 - Set kubernetes configuration context](../common/sop011-set-kubernetes-context.ipynb) to resolve this issue.'))\n",
                "        raise\n",
                "\n",
                "print('The kubernetes namespace for your big data cluster is: ' + namespace)"
            ]
        },
        {
            "cell_type": "markdown",
            "metadata": {},
            "source": [
                "### Get logs for all containers in Big Data Cluster namespace"
            ]
        },
        {
            "cell_type": "code",
            "execution_count": null,
            "metadata": {},
            "outputs": [],
            "source": [
                "pod_list = api.list_namespaced_pod(namespace)\n",
                "\n",
                "pod_names = [pod.metadata.name for pod in pod_list.items]\n",
                "\n",
                "print('Scanning pods: ' + ', '.join(pod_names))\n",
                "\n",
                "for pod in pod_list.items:\n",
                "    print(\"*** %s\\t%s\\t%s\" % (pod.metadata.name,\n",
                "                        pod.status.phase,\n",
                "                        pod.status.pod_ip))\n",
                "\n",
                "    container_names = [container.name for container in pod.spec.containers]\n",
                "\n",
                "    for container in container_names:\n",
                "        print (f\"POD: {pod.metadata.name} / CONTAINER: {container}\")\n",
                "        try:\n",
                "            logs = api.read_namespaced_pod_log(pod.metadata.name, namespace, container=container, since_seconds=since_seconds)\n",
                "\n",
                "            if coalesce_duplicates:\n",
                "                previous_line = \"\"\n",
                "                duplicates = 1\n",
                "                for line in logs.split('\\n'):\n",
                "                    if line[27:] != previous_line[27:]:\n",
                "                        if duplicates != 1:\n",
                "                            print(f\"\\t{previous_line} (x{duplicates})\")\n",
                "                        print(f\"\\t{line}\")\n",
                "                        duplicates = 1\n",
                "                    else:\n",
                "                        duplicates = duplicates + 1\n",
                "\n",
                "                    previous_line = line\n",
                "            else:\n",
                "                print(logs)\n",
                "        except Exception:\n",
                "            print (f\"Failed to get LOGS for CONTAINER: {container} in POD: {pod.metadata.name}\")"
            ]
        },
        {
            "cell_type": "code",
            "execution_count": null,
            "metadata": {},
            "outputs": [],
            "source": [
                "print('Notebook execution complete.')"
            ]
        },
        {
            "cell_type": "markdown",
            "metadata": {},
            "source": [
                "Related\n",
                "-------\n",
                "\n",
                "-   [TSG062 - Get tail of all previous container logs for pods in BDC\n",
                "    namespace](../log-files/tsg062-tail-bdc-previous-container-logs.ipynb)"
            ]
        }
    ],
    "nbformat": 4,
    "nbformat_minor": 5,
    "metadata": {
        "kernelspec": {
            "name": "python3",
            "display_name": "Python 3"
        },
        "side_effects": true,
        "azdata": {
            "diagnostic": {
                "categories": [
                    "kubernetes"
                ]
            }
        }
    }
}