{
    "cells": [
        {
            "cell_type": "markdown",
            "metadata": {},
            "source": [
                "CER033 - Sign Controller certificate with cluster Root CA\n",
                "=========================================================\n",
                "\n",
                "This notebook signs the certificate created using:\n",
                "\n",
                "-   [CER023 - Create Controller\n",
                "    certificate](../cert-management/cer023-create-controller-cert.ipynb)\n",
                "\n",
                "with the generate Root CA Certificate, created using either:\n",
                "\n",
                "-   [CER001 - Generate a Root CA\n",
                "    certificate](../cert-management/cer001-create-root-ca.ipynb)\n",
                "-   [CER003 - Upload existing Root CA\n",
                "    certificate](../cert-management/cer003-upload-existing-root-ca.ipynb)\n",
                "\n",
                "Steps\n",
                "-----\n",
                "\n",
                "### Parameters"
            ]
        },
        {
            "cell_type": "code",
            "execution_count": null,
            "metadata": {
                "tags": [
                    "parameters"
                ]
            },
            "outputs": [],
            "source": [
                "import getpass\n",
                "\n",
                "app_name = \"controller\"\n",
                "scaledset_name = \"control\"\n",
                "container_name = \"controller\"\n",
                "prefix_keyfile_name = \"controller\"\n",
                "common_name = \"controller-svc\"\n",
                "\n",
                "country_name = \"US\"\n",
                "state_or_province_name = \"Illinois\"\n",
                "locality_name = \"Chicago\"\n",
                "organization_name = \"Contoso\"\n",
                "organizational_unit_name = \"Finance\"\n",
                "email_address = f\"{getpass.getuser()}@contoso.com\"\n",
                "\n",
                "ssl_configuration_file = \"ca.openssl.cnf\"\n",
                "\n",
                "days = \"825\" # the number of days to certify the certificate for\n",
                "\n",
                "certificate_filename = \"cluster-ca-certificate.crt\"\n",
                "private_key_filename = \"cluster-ca-privatekey.pem\"\n",
                "\n",
                "test_cert_store_root = \"/var/opt/secrets/test-certificates\""
            ]
        },
        {
            "cell_type": "markdown",
            "metadata": {},
            "source": [
                "### Common functions\n",
                "\n",
                "Define helper functions used in this notebook."
            ]
        },
        {
            "cell_type": "code",
            "execution_count": null,
            "metadata": {
                "tags": [
                    "hide_input"
                ]
            },
            "outputs": [],
            "source": [
                "# Define `run` function for transient fault handling, suggestions on error, and scrolling updates on Windows\n",
                "import sys\n",
                "import os\n",
                "import re\n",
                "import json\n",
                "import platform\n",
                "import shlex\n",
                "import shutil\n",
                "import datetime\n",
                "\n",
                "from subprocess import Popen, PIPE\n",
                "from IPython.display import Markdown\n",
                "\n",
                "retry_hints = {}\n",
                "error_hints = {}\n",
                "install_hint = {}\n",
                "\n",
                "first_run = True\n",
                "rules = None\n",
                "\n",
                "def run(cmd, return_output=False, no_output=False, retry_count=0):\n",
                "    \"\"\"\n",
                "    Run shell command, stream stdout, print stderr and optionally return output\n",
                "    \"\"\"\n",
                "    MAX_RETRIES = 5\n",
                "    output = \"\"\n",
                "    retry = False\n",
                "\n",
                "    global first_run\n",
                "    global rules\n",
                "\n",
                "    if first_run:\n",
                "        first_run = False\n",
                "        rules = load_rules()\n",
                "\n",
                "    # shlex.split is required on bash and for Windows paths with spaces\n",
                "    #\n",
                "    cmd_actual = shlex.split(cmd)\n",
                "\n",
                "    # Store this (i.e. kubectl, python etc.) to support binary context aware error_hints and retries\n",
                "    #\n",
                "    user_provided_exe_name = cmd_actual[0].lower()\n",
                "\n",
                "    # When running python, use the python in the ADS sandbox ({sys.executable})\n",
                "    #\n",
                "    if cmd.startswith(\"python \"):\n",
                "        cmd_actual[0] = cmd_actual[0].replace(\"python\", sys.executable)\n",
                "\n",
                "        # On Mac, when ADS is not launched from terminal, LC_ALL may not be set, which causes pip installs to fail\n",
                "        # with:\n",
                "        #\n",
                "        #    UnicodeDecodeError: 'ascii' codec can't decode byte 0xc5 in position 4969: ordinal not in range(128)\n",
                "        #\n",
                "        # Setting it to a default value of \"en_US.UTF-8\" enables pip install to complete\n",
                "        #\n",
                "        if platform.system() == \"Darwin\" and \"LC_ALL\" not in os.environ:\n",
                "            os.environ[\"LC_ALL\"] = \"en_US.UTF-8\"\n",
                "\n",
                "    # To aid supportabilty, determine which binary file will actually be executed on the machine\n",
                "    #\n",
                "    which_binary = None\n",
                "\n",
                "    # Special case for CURL on Windows.  The version of CURL in Windows System32 does not work to\n",
                "    # get JWT tokens, it returns \"(56) Failure when receiving data from the peer\".  If another instance\n",
                "    # of CURL exists on the machine use that one.  (Unfortunately the curl.exe in System32 is almost\n",
                "    # always the first curl.exe in the path, and it can't be uninstalled from System32, so here we\n",
                "    # look for the 2nd installation of CURL in the path)\n",
                "    if platform.system() == \"Windows\" and cmd.startswith(\"curl \"):\n",
                "        path = os.getenv('PATH')\n",
                "        for p in path.split(os.path.pathsep):\n",
                "            p = os.path.join(p, \"curl.exe\")\n",
                "            if os.path.exists(p) and os.access(p, os.X_OK):\n",
                "                if p.lower().find(\"system32\") == -1:\n",
                "                    cmd_actual[0] = p\n",
                "                    which_binary = p\n",
                "                    break\n",
                "\n",
                "    # Find the path based location (shutil.which) of the executable that will be run (and display it to aid supportability), this\n",
                "    # seems to be required for .msi installs of azdata.cmd/az.cmd.  (otherwise Popen returns FileNotFound) \n",
                "    #\n",
                "    # NOTE: Bash needs cmd to be the list of the space separated values hence shlex.split.\n",
                "    #\n",
                "    if which_binary == None:\n",
                "        which_binary = shutil.which(cmd_actual[0])\n",
                "\n",
                "    if which_binary == None:\n",
                "        if user_provided_exe_name in install_hint and install_hint[user_provided_exe_name] is not None:\n",
                "            display(Markdown(f'HINT: Use [{install_hint[user_provided_exe_name][0]}]({install_hint[user_provided_exe_name][1]}) to resolve this issue.'))\n",
                "\n",
                "        raise FileNotFoundError(f\"Executable '{cmd_actual[0]}' not found in path (where/which)\")\n",
                "    else:   \n",
                "        cmd_actual[0] = which_binary\n",
                "\n",
                "    start_time = datetime.datetime.now().replace(microsecond=0)\n",
                "\n",
                "    print(f\"START: {cmd} @ {start_time} ({datetime.datetime.utcnow().replace(microsecond=0)} UTC)\")\n",
                "    print(f\"       using: {which_binary} ({platform.system()} {platform.release()} on {platform.machine()})\")\n",
                "    print(f\"       cwd: {os.getcwd()}\")\n",
                "\n",
                "    # Command-line tools such as CURL and AZDATA HDFS commands output\n",
                "    # scrolling progress bars, which causes Jupyter to hang forever, to\n",
                "    # workaround this, use no_output=True\n",
                "    #\n",
                "\n",
                "    # Work around a infinite hang when a notebook generates a non-zero return code, break out, and do not wait\n",
                "    #\n",
                "    wait = True \n",
                "\n",
                "    try:\n",
                "        if no_output:\n",
                "            p = Popen(cmd_actual)\n",
                "        else:\n",
                "            p = Popen(cmd_actual, stdout=PIPE, stderr=PIPE, bufsize=1)\n",
                "            with p.stdout:\n",
                "                for line in iter(p.stdout.readline, b''):\n",
                "                    line = line.decode()\n",
                "                    if return_output:\n",
                "                        output = output + line\n",
                "                    else:\n",
                "                        if cmd.startswith(\"azdata notebook run\"): # Hyperlink the .ipynb file\n",
                "                            regex = re.compile('  \"(.*)\"\\: \"(.*)\"') \n",
                "                            match = regex.match(line)\n",
                "                            if match:\n",
                "                                if match.group(1).find(\"HTML\") != -1:\n",
                "                                    display(Markdown(f' - \"{match.group(1)}\": \"{match.group(2)}\"'))\n",
                "                                else:\n",
                "                                    display(Markdown(f' - \"{match.group(1)}\": \"[{match.group(2)}]({match.group(2)})\"'))\n",
                "\n",
                "                                    wait = False\n",
                "                                    break # otherwise infinite hang, have not worked out why yet.\n",
                "                        else:\n",
                "                            print(line, end='')\n",
                "                            if rules is not None:\n",
                "                                apply_expert_rules(line)\n",
                "\n",
                "        if wait:\n",
                "            p.wait()\n",
                "    except FileNotFoundError as e:\n",
                "        if install_hint is not None:\n",
                "            display(Markdown(f'HINT: Use {install_hint} to resolve this issue.'))\n",
                "\n",
                "        raise FileNotFoundError(f\"Executable '{cmd_actual[0]}' not found in path (where/which)\") from e\n",
                "\n",
                "    exit_code_workaround = 0 # WORKAROUND: azdata hangs on exception from notebook on p.wait()\n",
                "\n",
                "    if not no_output:\n",
                "        for line in iter(p.stderr.readline, b''):\n",
                "            line_decoded = line.decode()\n",
                "\n",
                "            # azdata emits a single empty line to stderr when doing an hdfs cp, don't\n",
                "            # print this empty \"ERR:\" as it confuses.\n",
                "            #\n",
                "            if line_decoded == \"\":\n",
                "                continue\n",
                "            \n",
                "            print(f\"STDERR: {line_decoded}\", end='')\n",
                "\n",
                "            if line_decoded.startswith(\"An exception has occurred\") or line_decoded.startswith(\"ERROR: An error occurred while executing the following cell\"):\n",
                "                exit_code_workaround = 1\n",
                "\n",
                "            if user_provided_exe_name in error_hints:\n",
                "                for error_hint in error_hints[user_provided_exe_name]:\n",
                "                    if line_decoded.find(error_hint[0]) != -1:\n",
                "                        display(Markdown(f'HINT: Use [{error_hint[1]}]({error_hint[2]}) to resolve this issue.'))\n",
                "\n",
                "            if rules is not None:\n",
                "                apply_expert_rules(line_decoded)\n",
                "\n",
                "            if user_provided_exe_name in retry_hints:\n",
                "                for retry_hint in retry_hints[user_provided_exe_name]:\n",
                "                    if line_decoded.find(retry_hint) != -1:\n",
                "                        if retry_count < MAX_RETRIES:\n",
                "                            print(f\"RETRY: {retry_count} (due to: {retry_hint})\")\n",
                "                            retry_count = retry_count + 1\n",
                "                            output = run(cmd, return_output=return_output, retry_count=retry_count)\n",
                "\n",
                "                            if return_output:\n",
                "                                return output\n",
                "                            else:\n",
                "                                return\n",
                "\n",
                "    elapsed = datetime.datetime.now().replace(microsecond=0) - start_time\n",
                "\n",
                "    # WORKAROUND: We avoid infinite hang above in the `azdata notebook run` failure case, by inferring success (from stdout output), so\n",
                "    # don't wait here, if success known above\n",
                "    #\n",
                "    if wait: \n",
                "        if p.returncode != 0:\n",
                "            raise SystemExit(f'Shell command:\\n\\n\\t{cmd} ({elapsed}s elapsed)\\n\\nreturned non-zero exit code: {str(p.returncode)}.\\n')\n",
                "    else:\n",
                "        if exit_code_workaround !=0 :\n",
                "            raise SystemExit(f'Shell command:\\n\\n\\t{cmd} ({elapsed}s elapsed)\\n\\nreturned non-zero exit code: {str(exit_code_workaround)}.\\n')\n",
                "\n",
                "\n",
                "    print(f'\\nSUCCESS: {elapsed}s elapsed.\\n')\n",
                "\n",
                "    if return_output:\n",
                "        return output\n",
                "\n",
                "def load_json(filename):\n",
                "    with open(filename, encoding=\"utf8\") as json_file:\n",
                "        return json.load(json_file)\n",
                "\n",
                "def load_rules():\n",
                "\n",
                "    try:\n",
                "\n",
                "        # Load this notebook as json to get access to the expert rules in the notebook metadata.\n",
                "        #\n",
                "        j = load_json(\"cer033-sign-controller-generated-cert.ipynb\")\n",
                "\n",
                "    except:\n",
                "        pass # If the user has renamed the book, we can't load ourself.  NOTE: Is there a way in Jupyter, to know your own filename?\n",
                "\n",
                "    else:\n",
                "        if \"metadata\" in j and \\\n",
                "            \"azdata\" in j[\"metadata\"] and \\\n",
                "            \"expert\" in j[\"metadata\"][\"azdata\"] and \\\n",
                "            \"rules\" in j[\"metadata\"][\"azdata\"][\"expert\"]:\n",
                "\n",
                "            rules = j[\"metadata\"][\"azdata\"][\"expert\"][\"rules\"]\n",
                "\n",
                "            rules.sort() # Sort rules, so they run in priority order (the [0] element).  Lowest value first.\n",
                "\n",
                "            # print (f\"EXPERT: There are {len(rules)} rules to evaluate.\")\n",
                "\n",
                "            return rules\n",
                "\n",
                "def apply_expert_rules(line):\n",
                "\n",
                "    global rules\n",
                "\n",
                "    for rule in rules:\n",
                "\n",
                "        # rules that have 9 elements are the injected (output) rules (the ones we want).  Rules\n",
                "        # with only 8 elements are the source (input) rules, which are not expanded (i.e. TSG029,\n",
                "        # not ../repair/tsg029-nb-name.ipynb)\n",
                "        if len(rule) == 9:\n",
                "            notebook = rule[1]\n",
                "            cell_type = rule[2]\n",
                "            output_type = rule[3] # i.e. stream or error\n",
                "            output_type_name = rule[4] # i.e. ename or name \n",
                "            output_type_value = rule[5] # i.e. SystemExit or stdout\n",
                "            details_name = rule[6]  # i.e. evalue or text \n",
                "            expression = rule[7].replace(\"\\\\*\", \"*\") # Something escaped *, and put a \\ in front of it!\n",
                "\n",
                "            # print(f\"EXPERT: If rule '{expression}' satisfied', run '{notebook}'.\")\n",
                "\n",
                "            if re.match(expression, line, re.DOTALL):\n",
                "\n",
                "                # print(\"EXPERT: MATCH: name = value: '{0}' = '{1}' matched expression '{2}', therefore HINT '{4}'\".format(output_type_name, output_type_value, expression, notebook))\n",
                "\n",
                "                match_found = True\n",
                "\n",
                "                display(Markdown(f'HINT: Use [{notebook}]({notebook}) to resolve this issue.'))\n",
                "\n",
                "\n",
                "\n",
                "print('Common functions defined successfully.')\n",
                "\n",
                "# Hints for binary (transient fault) retry, (known) error and install guide\n",
                "#\n",
                "retry_hints = {'kubectl': ['A connection attempt failed because the connected party did not properly respond after a period of time, or established connection failed because connected host has failed to respond']}\n",
                "error_hints = {'kubectl': [['no such host', 'TSG010 - Get configuration contexts', '../monitor-k8s/tsg010-get-kubernetes-contexts.ipynb'], ['no such host', 'TSG011 - Restart sparkhistory server', '../repair/tsg011-restart-sparkhistory-server.ipynb'], ['No connection could be made because the target machine actively refused it', 'TSG056 - Kubectl fails with No connection could be made because the target machine actively refused it', '../repair/tsg056-kubectl-no-connection-could-be-made.ipynb']]}\n",
                "install_hint = {'kubectl': ['SOP036 - Install kubectl command line interface', '../install/sop036-install-kubectl.ipynb']}"
            ]
        },
        {
            "cell_type": "markdown",
            "metadata": {},
            "source": [
                "### Get the Kubernetes namespace for the big data cluster\n",
                "\n",
                "Get the namespace of the big data cluster use the kubectl command line\n",
                "interface .\n",
                "\n",
                "NOTE: If there is more than one big data cluster in the target\n",
                "Kubernetes cluster, then set \\[0\\] to the correct value for the big data\n",
                "cluster."
            ]
        },
        {
            "cell_type": "code",
            "execution_count": null,
            "metadata": {
                "tags": [
                    "hide_input"
                ]
            },
            "outputs": [],
            "source": [
                "# Place Kubernetes namespace name for BDC into 'namespace' variable\n",
                "\n",
                "try:\n",
                "    namespace = run(f'kubectl get namespace --selector=MSSQL_CLUSTER -o jsonpath={{.items[0].metadata.name}}', return_output=True)\n",
                "except:\n",
                "    from IPython.display import Markdown\n",
                "    print(f\"ERROR: Unable to find a Kubernetes namespace with label 'MSSQL_CLUSTER'.  SQL Server Big Data Cluster Kubernetes namespaces contain the label 'MSSQL_CLUSTER'.\")\n",
                "    display(Markdown(f'HINT: Use [TSG081 - Get namespaces (Kubernetes)](../monitor-k8s/tsg081-get-kubernetes-namespaces.ipynb) to resolve this issue.'))\n",
                "    display(Markdown(f'HINT: Use [TSG010 - Get configuration contexts](../monitor-k8s/tsg010-get-kubernetes-contexts.ipynb) to resolve this issue.'))\n",
                "    display(Markdown(f'HINT: Use [SOP011 - Set kubernetes configuration context](../common/sop011-set-kubernetes-context.ipynb) to resolve this issue.'))\n",
                "    raise\n",
                "else:\n",
                "    print(f'The SQL Server Big Data Cluster Kubernetes namespace is: {namespace}')"
            ]
        },
        {
            "cell_type": "markdown",
            "metadata": {},
            "source": [
                "### Create a temporary directory to stage files"
            ]
        },
        {
            "cell_type": "code",
            "execution_count": null,
            "metadata": {
                "tags": [
                    "hide_input"
                ]
            },
            "outputs": [],
            "source": [
                "# Create a temporary directory to hold configuration files\n",
                "\n",
                "import tempfile\n",
                "\n",
                "temp_dir = tempfile.mkdtemp()\n",
                "\n",
                "print(f\"Temporary directory created: {temp_dir}\")"
            ]
        },
        {
            "cell_type": "markdown",
            "metadata": {},
            "source": [
                "### Helper function to save configuration files to disk"
            ]
        },
        {
            "cell_type": "code",
            "execution_count": null,
            "metadata": {
                "tags": [
                    "hide_input"
                ]
            },
            "outputs": [],
            "source": [
                "# Define helper function 'save_file' to save configuration files to the temporary directory created above\n",
                "import os\n",
                "import io\n",
                "\n",
                "def save_file(filename, contents):\n",
                "    with io.open(os.path.join(temp_dir, filename), \"w\", encoding='utf8', newline='\\n') as text_file:\n",
                "      text_file.write(contents)\n",
                "\n",
                "      print(\"File saved: \" + os.path.join(temp_dir, filename))"
            ]
        },
        {
            "cell_type": "markdown",
            "metadata": {},
            "source": [
                "### Get name of the \u2018Running\u2019 `controller` `pod`"
            ]
        },
        {
            "cell_type": "code",
            "execution_count": null,
            "metadata": {
                "tags": [
                    "hide_input"
                ]
            },
            "outputs": [],
            "source": [
                "# Place the name  of the 'Running' controller pod in variable `controller`\n",
                "\n",
                "controller = run(f'kubectl get pod --selector=app=controller -n {namespace} -o jsonpath={{.items[0].metadata.name}} --field-selector=status.phase=Running', return_output=True)\n",
                "\n",
                "print(f\"Controller pod name: {controller}\")"
            ]
        },
        {
            "cell_type": "markdown",
            "metadata": {},
            "source": [
                "### Create Signing Request configuration file"
            ]
        },
        {
            "cell_type": "code",
            "execution_count": null,
            "metadata": {},
            "outputs": [],
            "source": [
                "certificate = f\"\"\"\n",
                "[ ca ]\n",
                "default_ca    = CA_default      # The default ca section\n",
                "\n",
                "[ CA_default ]\n",
                "default_days     = 1000         # How long to certify for\n",
                "default_crl_days = 30           # How long before next CRL\n",
                "default_md       = sha256       # Use public key default MD\n",
                "preserve         = no           # Keep passed DN ordering\n",
                "\n",
                "x509_extensions = ca_extensions # The extensions to add to the cert\n",
                "\n",
                "email_in_dn     = no            # Don't concat the email in the DN\n",
                "copy_extensions = copy          # Required to copy SANs from CSR to cert\n",
                "\n",
                "base_dir      = {test_cert_store_root}\n",
                "certificate   = $base_dir/{certificate_filename}   # The CA certifcate\n",
                "private_key   = $base_dir/{private_key_filename}    # The CA private key\n",
                "new_certs_dir = $base_dir              # Location for new certs after signing\n",
                "database      = $base_dir/index.txt    # Database index file\n",
                "serial        = $base_dir/serial.txt   # The current serial number\n",
                "\n",
                "unique_subject = no  # Set to 'no' to allow creation of\n",
                "                     # several certificates with same subject.\n",
                "\n",
                "[ req ]\n",
                "default_bits       = 2048\n",
                "default_keyfile    = {test_cert_store_root}/{private_key_filename}\n",
                "distinguished_name = ca_distinguished_name\n",
                "x509_extensions    = ca_extensions\n",
                "string_mask        = utf8only\n",
                "\n",
                "[ ca_distinguished_name ]\n",
                "countryName         = Country Name (2 letter code)\n",
                "countryName_default = {country_name}\n",
                "\n",
                "stateOrProvinceName         = State or Province Name (full name)\n",
                "stateOrProvinceName_default = {state_or_province_name}\n",
                "\n",
                "localityName                = Locality Name (eg, city)\n",
                "localityName_default        = {locality_name}\n",
                "\n",
                "organizationName            = Organization Name (eg, company)\n",
                "organizationName_default    = {organization_name}\n",
                "\n",
                "organizationalUnitName         = Organizational Unit (eg, division)\n",
                "organizationalUnitName_default = {organizational_unit_name}\n",
                "\n",
                "commonName         = Common Name (e.g. server FQDN or YOUR name)\n",
                "commonName_default = {common_name}\n",
                "\n",
                "emailAddress         = Email Address\n",
                "emailAddress_default = {email_address}\n",
                "\n",
                "[ ca_extensions ]\n",
                "subjectKeyIdentifier   = hash\n",
                "authorityKeyIdentifier = keyid:always, issuer\n",
                "basicConstraints       = critical, CA:true\n",
                "keyUsage               = keyCertSign, cRLSign\n",
                "\n",
                "[ signing_policy ]\n",
                "countryName            = optional\n",
                "stateOrProvinceName    = optional\n",
                "localityName           = optional\n",
                "organizationName       = optional\n",
                "organizationalUnitName = optional\n",
                "commonName             = supplied\n",
                "emailAddress           = optional\n",
                "\n",
                "[ signing_req ]\n",
                "subjectKeyIdentifier   = hash\n",
                "authorityKeyIdentifier = keyid,issuer\n",
                "basicConstraints       = CA:FALSE\n",
                "keyUsage               = digitalSignature, keyEncipherment\n",
                "\"\"\"\n",
                "\n",
                "save_file(ssl_configuration_file, certificate)\n"
            ]
        },
        {
            "cell_type": "markdown",
            "metadata": {},
            "source": [
                "### Copy certificate configuration to `controller` `pod`"
            ]
        },
        {
            "cell_type": "code",
            "execution_count": null,
            "metadata": {},
            "outputs": [],
            "source": [
                "import os\n",
                "\n",
                "cwd = os.getcwd()\n",
                "os.chdir(temp_dir) # Use chdir to workaround kubectl bug on Windows, which incorrectly processes 'c:\\' on kubectl cp cmd line \n",
                "\n",
                "run(f'kubectl exec {controller} -c controller -n {namespace} -- bash -c \"mkdir -p {test_cert_store_root}/{app_name}\"')\n",
                "\n",
                "run(f'kubectl cp {ssl_configuration_file} {controller}:{test_cert_store_root}/{app_name}/{ssl_configuration_file} -c controller -n {namespace}')\n",
                "\n",
                "os.chdir(cwd)"
            ]
        },
        {
            "cell_type": "markdown",
            "metadata": {},
            "source": [
                "### Obtain CA certificate"
            ]
        },
        {
            "cell_type": "code",
            "execution_count": null,
            "metadata": {},
            "outputs": [],
            "source": [
                "cmd = f\"cp /var/run/secrets/certificates/rootca/cluster-ca-certificate.crt {test_cert_store_root}/cluster-ca-certificate.crt\"\n",
                "\n",
                "run(f'kubectl exec {controller} -c controller -n {namespace} -- bash -c \"{cmd}\"')"
            ]
        },
        {
            "cell_type": "markdown",
            "metadata": {},
            "source": [
                "### Extract the private key from pfx"
            ]
        },
        {
            "cell_type": "code",
            "execution_count": null,
            "metadata": {},
            "outputs": [],
            "source": [
                "cmd = f\"NO_PASSWORD= openssl pkcs12 -in /var/run/secrets/certificates/rootca/cluster-ca-certificate.p12 -out {test_cert_store_root}/{private_key_filename} -nocerts -nodes -password env:NO_PASSWORD\"\n",
                "\n",
                "run(f'kubectl exec {controller} -c controller -n {namespace} -- bash -c \"{cmd}\"')"
            ]
        },
        {
            "cell_type": "markdown",
            "metadata": {},
            "source": [
                "### Set next serial number"
            ]
        },
        {
            "cell_type": "code",
            "execution_count": null,
            "metadata": {},
            "outputs": [],
            "source": [
                "run(f'kubectl exec {controller} -n {namespace} -c controller -- bash -c \"test -f {test_cert_store_root}/index.txt || touch {test_cert_store_root}/index.txt\"')\n",
                "run(f\"\"\"kubectl exec {controller} -n {namespace} -c controller -- bash -c \"test -f {test_cert_store_root}/serial.txt || echo '00' > {test_cert_store_root}/serial.txt\" \"\"\")\n",
                "\n",
                "current_serial_number = run(f\"\"\"kubectl exec {controller} -n {namespace} -c controller -- bash -c \"cat {test_cert_store_root}/serial.txt\" \"\"\", return_output=True)\n",
                "\n",
                "# The serial number is hex\n",
                "new_serial_number = int(f\"0x{current_serial_number}\", 0) + 1\n",
                "\n",
                "run(f\"\"\"kubectl exec {controller} -n {namespace} -c controller -- bash -c \"echo '{new_serial_number:02X}' > {test_cert_store_root}/serial.txt\" \"\"\")"
            ]
        },
        {
            "cell_type": "markdown",
            "metadata": {},
            "source": [
                "### Create private key and certificate signing request"
            ]
        },
        {
            "cell_type": "code",
            "execution_count": null,
            "metadata": {},
            "outputs": [],
            "source": [
                "cmd = f\"openssl ca -batch -notext -config {test_cert_store_root}/{app_name}/ca.openssl.cnf -policy signing_policy -extensions signing_req -out {test_cert_store_root}/{app_name}/{prefix_keyfile_name}-certificate.pem -infiles {test_cert_store_root}/{app_name}/{prefix_keyfile_name}-signingrequest.csr\"\n",
                "\n",
                "run(f'kubectl exec {controller} -c controller -n {namespace} -- bash -c \"{cmd}\"')"
            ]
        },
        {
            "cell_type": "markdown",
            "metadata": {},
            "source": [
                "### Display certificate\n",
                "\n",
                "Use openssl x509 to display the certificate, so it can be visually\n",
                "verified to be correct."
            ]
        },
        {
            "cell_type": "code",
            "execution_count": null,
            "metadata": {},
            "outputs": [],
            "source": [
                "cmd = f\"openssl x509 -in {test_cert_store_root}/{app_name}/{prefix_keyfile_name}-certificate.pem -text -noout\"\n",
                "\n",
                "run(f'kubectl exec {controller} -c controller -n {namespace} -- bash -c \"{cmd}\"')"
            ]
        },
        {
            "cell_type": "markdown",
            "metadata": {},
            "source": [
                "### Generate the `controller` certificate in PKCS12 format\n",
                "\n",
                "For the controller certificate, generate the certificate in PKCS12\n",
                "format.\n",
                "\n",
                "In order to obtain the certificate in PKCS12 format from the generated\n",
                "private key and certificate file above, run the following:"
            ]
        },
        {
            "cell_type": "code",
            "execution_count": null,
            "metadata": {},
            "outputs": [],
            "source": [
                "cmd = f'NO_PASSWORD= openssl pkcs12 -export -out {test_cert_store_root}/{app_name}/{prefix_keyfile_name}-certificate.p12 -inkey {test_cert_store_root}/{app_name}/{prefix_keyfile_name}-privatekey.pem -in {test_cert_store_root}/{app_name}/{prefix_keyfile_name}-certificate.pem -password env:NO_PASSWORD'\n",
                "\n",
                "run(f'kubectl exec {controller} -n {namespace} -c {app_name} -- bash -c \"{cmd}\"')"
            ]
        },
        {
            "cell_type": "markdown",
            "metadata": {},
            "source": [
                "### Clean up the extracted controller private key\n",
                "\n",
                "Remove the private key that was extract from the\n",
                "cluster-ca-certificate.p12 above."
            ]
        },
        {
            "cell_type": "code",
            "execution_count": null,
            "metadata": {},
            "outputs": [],
            "source": [
                "cmd = f\"rm {test_cert_store_root}/{private_key_filename}\"\n",
                "\n",
                "run(f'kubectl exec {controller} -c controller -n {namespace} -- bash -c \"{cmd}\"')"
            ]
        },
        {
            "cell_type": "markdown",
            "metadata": {},
            "source": [
                "### Clean up temporary directory for staging configuration files"
            ]
        },
        {
            "cell_type": "code",
            "execution_count": null,
            "metadata": {
                "tags": [
                    "hide_input"
                ]
            },
            "outputs": [],
            "source": [
                "# Delete the temporary directory used to hold configuration files\n",
                "\n",
                "import shutil\n",
                "\n",
                "shutil.rmtree(temp_dir)\n",
                "\n",
                "print(f'Temporary directory deleted: {temp_dir}')"
            ]
        },
        {
            "cell_type": "code",
            "execution_count": null,
            "metadata": {},
            "outputs": [],
            "source": [
                "print('Notebook execution complete.')"
            ]
        },
        {
            "cell_type": "markdown",
            "metadata": {},
            "source": [
                "Related\n",
                "-------\n",
                "\n",
                "-   [CER040 - Install signed Management Proxy\n",
                "    certificate](../cert-management/cer040-install-service-proxy-cert.ipynb)\n",
                "\n",
                "-   [CER022 - Create App Proxy\n",
                "    certificate](../cert-management/cer022-create-app-proxy-cert.ipynb)\n",
                "\n",
                "-   [CER042 - Install signed App-Proxy\n",
                "    certificate](../cert-management/cer042-install-app-proxy-cert.ipynb)"
            ]
        }
    ],
    "nbformat": 4,
    "nbformat_minor": 5,
    "metadata": {
        "kernelspec": {
            "name": "python3",
            "display_name": "Python 3"
        },
        "azdata": {
            "side_effects": true
        }
    }
}