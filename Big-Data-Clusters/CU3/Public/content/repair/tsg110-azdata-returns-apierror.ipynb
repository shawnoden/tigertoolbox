{
    "cells": [
        {
            "cell_type": "markdown",
            "metadata": {},
            "source": [
                "TSG110 - Azdata returns ApiError\n",
                "================================\n",
                "\n",
                "Description\n",
                "-----------\n",
                "\n",
                "When running `azdata` commands, such as `azdata login`, they fail with\n",
                "the following error:\n",
                "\n",
                "> ERROR: Error processing command: \u201cApiError\u201d Internal Server Error\n",
                "\n",
                "### Steps\n",
                "\n",
                "This has been seen to be caused by an issue with the `controller`. The\n",
                "next steps to perform is to analyze the controller logs. Use the TSG(s)\n",
                "listed below to do this.\n",
                "\n",
                "Related\n",
                "-------\n",
                "\n",
                "-   [TSG036 - Controller\n",
                "    logs](../log-analyzers/tsg036-get-controller-logs.ipynb)"
            ]
        }
    ],
    "nbformat": 4,
    "nbformat_minor": 5,
    "metadata": {
        "kernelspec": {
            "name": "python3",
            "display_name": "Python 3"
        },
        "azdata": {
            "side_effects": true
        }
    }
}