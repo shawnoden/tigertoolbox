{
    "cells": [
        {
            "cell_type": "markdown",
            "metadata": {},
            "source": [
                "TSG038 - BDC create failures due to - doc is missing key\n",
                "========================================================\n",
                "\n",
                "Description\n",
                "-----------\n",
                "\n",
                "An attempt to create a Big Data Cluster fails, and in the controller log\n",
                "the follow ERROR can be found.\n",
                "\n",
                "> 2019-08-14 17:38:44.9872 \\| ERROR \\| Failed to create agent\n",
                "> certificate for ScaleSet \u2018control\u2019 k8s.KubernetesException: Internal\n",
                "> Server Error:\n",
                "> {\u201ckind\u201d:\u201cStatus\u201d,\u201capiVersion\u201d:\u201cv1\u201d,\u201cmetadata\u201d:{},\u201cstatus\u201d:\u201cFailure\u201d,\u201cmessage\u201d:\u201cjsonpatch\n",
                "> replace operation does not apply: doc is missing key:\n",
                "> /data\u201d,\u201ccode\u201d:500} \u2014\\> Microsoft.Rest.HttpOperationException:\n",
                "> Operation returned an invalid status code \u2018InternalServerError\u2019 at\n",
                "> k8s.Kubernetes.<PatchNamespacedSecretWithHttpMessagesAsync>d\\_\\_144.MoveNext()\n",
                "> \u2014 End of stack trace from previous location where exception was thrown\n",
                "> \u2014 at System.Runtime.ExceptionServices.ExceptionDispatchInfo.Throw() at\n",
                "> System.Runtime.CompilerServices.TaskAwaiter.HandleNonSuccessAndDebuggerNotification\n",
                "\n",
                "### Resolution\n",
                "\n",
                "This has been seen due to the version of the Kubernetes cluster not\n",
                "being at or above the minimum required version. e.g.\u00a0this error will\n",
                "happen if trying to create a Big Data Cluster in a v1.10 Kubernetes\n",
                "cluster.\n",
                "\n",
                "Upgrade the Kubernetes cluster to the minimum supported version or\n",
                "higher."
            ]
        }
    ],
    "nbformat": 4,
    "nbformat_minor": 5,
    "metadata": {
        "kernelspec": {
            "name": "python3",
            "display_name": "Python 3"
        },
        "azdata": {
            "side_effects": true
        }
    }
}