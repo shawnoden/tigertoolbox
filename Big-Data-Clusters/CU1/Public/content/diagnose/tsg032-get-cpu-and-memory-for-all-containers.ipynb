{
    "cells": [
        {
            "cell_type": "markdown",
            "metadata": {},
            "source": [
                "TSG032 - CPU and Memory usage for all containers\n",
                "================================================\n",
                "\n",
                "Steps\n",
                "-----\n",
                "\n",
                "### Instantiate Kubernetes client"
            ]
        },
        {
            "cell_type": "code",
            "execution_count": null,
            "metadata": {
                "tags": [
                    "hide_input"
                ]
            },
            "outputs": [],
            "source": [
                "# Instantiate the Python Kubernetes client into 'api' variable\n",
                "\n",
                "import os\n",
                "\n",
                "try:\n",
                "    from kubernetes import client, config\n",
                "    from kubernetes.stream import stream\n",
                "\n",
                "    if \"KUBERNETES_SERVICE_PORT\" in os.environ and \"KUBERNETES_SERVICE_HOST\" in os.environ:\n",
                "        config.load_incluster_config()\n",
                "    else:\n",
                "        config.load_kube_config()\n",
                "\n",
                "    api = client.CoreV1Api()\n",
                "\n",
                "    print('Kubernetes client instantiated')\n",
                "except ImportError:\n",
                "    from IPython.display import Markdown\n",
                "    display(Markdown(f'HINT: Use [SOP059 - Install Kubernetes Python module](../install/sop059-install-kubernetes-module.ipynb) to resolve this issue.'))\n",
                "    raise"
            ]
        },
        {
            "cell_type": "markdown",
            "metadata": {},
            "source": [
                "### Get the namespace for the big data cluster\n",
                "\n",
                "Get the namespace of the big data cluster from the Kuberenetes API.\n",
                "\n",
                "NOTE: If there is more than one big data cluster in the target\n",
                "Kubernetes cluster, then set \\[0\\] to the correct value for the big data\n",
                "cluster."
            ]
        },
        {
            "cell_type": "code",
            "execution_count": null,
            "metadata": {
                "tags": [
                    "hide_input"
                ]
            },
            "outputs": [],
            "source": [
                "# Place Kubernetes namespace name for BDC into 'namespace' variable\n",
                "\n",
                "try:\n",
                "    namespace = api.list_namespace(label_selector='MSSQL_CLUSTER').items[0].metadata.name\n",
                "except IndexError:\n",
                "    from IPython.display import Markdown\n",
                "    display(Markdown(f'HINT: Use [TSG081 - Get namespaces (Kubernetes)](../monitor-k8s/tsg081-get-kubernetes-namespaces.ipynb) to resolve this issue.'))\n",
                "    display(Markdown(f'HINT: Use [TSG010 - Get configuration contexts](../monitor-k8s/tsg010-get-kubernetes-contexts.ipynb) to resolve this issue.'))\n",
                "    display(Markdown(f'HINT: Use [SOP011 - Set kubernetes configuration context](../common/sop011-set-kubernetes-context.ipynb) to resolve this issue.'))\n",
                "    raise\n",
                "\n",
                "print('The kubernetes namespace for your big data cluster is: ' + namespace)"
            ]
        },
        {
            "cell_type": "markdown",
            "metadata": {},
            "source": [
                "### Get per process usage stats"
            ]
        },
        {
            "cell_type": "code",
            "execution_count": null,
            "metadata": {},
            "outputs": [],
            "source": [
                "cmd = \"\"\"echo \"CPU %\\t MEM %\\t MEM\\t PROCESS\" &&\n",
                "ps aux |\n",
                "awk '\n",
                "    {mem[$11] += int($6/1024)};\n",
                "    {cpuper[$11] += $3};\n",
                "    {memper[$11] += $4};\n",
                "END {\n",
                "    for (i in mem) {\n",
                "        print cpuper[i] \"%\\t\", memper[i] \"%\\t\", mem[i] \"MB\\t\", i\n",
                "    }\n",
                "}' |\n",
                "sort -k3nr\n",
                "\"\"\"\n",
                "\n",
                "pod_list = api.list_namespaced_pod(namespace)\n",
                "pod_names = [pod.metadata.name for pod in pod_list.items]\n",
                "\n",
                "for pod in pod_list.items:\n",
                "    container_names = [container.name for container in pod.spec.containers]\n",
                "\n",
                "    for container in container_names:\n",
                "        print (f\"CONTAINER: {container} / POD: {pod.metadata.name}\")\n",
                "        try:\n",
                "            print(stream(api.connect_get_namespaced_pod_exec, pod.metadata.name, namespace, command=['/bin/sh', '-c', cmd], container=container, stderr=True, stdout=True))\n",
                "        except Exception:\n",
                "            print (f\"Failed to get CPU/Memory for container: {container} in POD: {pod.metadata.name}\")"
            ]
        },
        {
            "cell_type": "code",
            "execution_count": null,
            "metadata": {},
            "outputs": [],
            "source": [
                "print('Notebook execution complete.')"
            ]
        }
    ],
    "nbformat": 4,
    "nbformat_minor": 5,
    "metadata": {
        "kernelspec": {
            "name": "python3",
            "display_name": "Python 3"
        },
        "azdata": {
            "side_effects": false
        }
    }
}