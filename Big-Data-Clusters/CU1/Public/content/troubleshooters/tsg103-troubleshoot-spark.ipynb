{
    "cells": [
        {
            "cell_type": "markdown",
            "metadata": {},
            "source": [
                "TSG103 - Spark troubleshooter\n",
                "=============================\n",
                "\n",
                "Description\n",
                "-----------\n",
                "\n",
                "Follow these steps to troubleshoot Spark issues\n",
                "\n",
                "Steps\n",
                "-----\n",
                "\n",
                "### Run through the Spark sample notebook\n",
                "\n",
                "Run through this sample nootebok to incrementally verify each major\n",
                "component of Spark in the Big Data Cluster. If the sample hits any\n",
                "problems, it will HINT the next TSG to run to resolve the issue.\n",
                "\n",
                "-   [SAM008 - Spark using\n",
                "    azdata](../sample/sam008-spark-using-azdata.ipynb)\n",
                "\n",
                "### View and Analyze the Spark related log files\n",
                "\n",
                "-   [TSG035 - Spark History\n",
                "    logs](../log-analyzers/tsg035-get-sparkhistory-logs.ipynb)\n",
                "\n",
                "### Verify the Livy logs\n",
                "\n",
                "In a Big Data Cluster, spark jobs are submitted using Livy, problems\n",
                "with Spark will often show up in these logs.\n",
                "\n",
                "-   [TSG034 - Livy logs](../log-analyzers/tsg034-get-livy-logs.ipynb)\n",
                "\n",
                "### Verify the Gateway log\n",
                "\n",
                "The Knox gateway will strip error information from responses going to\n",
                "the client, and place it in the gateway logs.\n",
                "\n",
                "-   [TSG046 - Knox gateway\n",
                "    logs](../log-analyzers/tsg046-get-knox-logs.ipynb)\n",
                "\n",
                "Related\n",
                "-------\n",
                "\n",
                "-   [TSG100 - The Big Data Cluster\n",
                "    troubleshooter](../troubleshooters/tsg100-troubleshoot-bdc.ipynb)"
            ]
        }
    ],
    "nbformat": 4,
    "nbformat_minor": 5,
    "metadata": {
        "kernelspec": {
            "name": "python3",
            "display_name": "Python 3"
        },
        "azdata": {
            "side_effects": false
        }
    }
}