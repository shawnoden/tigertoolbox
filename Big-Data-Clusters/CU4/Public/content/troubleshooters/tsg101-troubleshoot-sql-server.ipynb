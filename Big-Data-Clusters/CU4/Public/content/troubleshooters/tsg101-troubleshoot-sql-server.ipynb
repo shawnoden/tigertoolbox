{
    "cells": [
        {
            "cell_type": "markdown",
            "metadata": {},
            "source": [
                "TSG101 - SQL Server troubleshooter\n",
                "==================================\n",
                "\n",
                "Description\n",
                "-----------\n",
                "\n",
                "Follow these steps to troubleshoot SQL Server issues in the Big Data\n",
                "Cluster (BDC)\n",
                "\n",
                "Steps\n",
                "-----\n",
                "\n",
                "### Run through the SQL Query monitor notebook\n",
                "\n",
                "Run through this TSG to incrementally verify each SQL Server process\n",
                "running in the Big Data Cluster. If the TSG hits any problems, it will\n",
                "HINT the next TSG to run to resolve the issue.\n",
                "\n",
                "-   [TSG070 - Query SQL master\n",
                "    pool](../monitor-bdc/tsg070-use-azdata-sql-query.ipynb)\n",
                "\n",
                "### Run the SQL Server log analyzers\n",
                "\n",
                "The following TSGs will connect to the cluster and get the SQL Server\n",
                "logs and analyze them for known issues and HINT the next TSG to run to\n",
                "resolve known issues.\n",
                "\n",
                "-   [TSG030 - SQL Server errorlog\n",
                "    files](../log-analyzers/tsg030-get-errorlog-from-all-pods.ipynb)\n",
                "-   [TSG031 - SQL Server PolyBase\n",
                "    logs](../log-analyzers/tsg031-get-polybase-logs-for-all-pods.ipynb)\n",
                "\n",
                "Related\n",
                "-------\n",
                "\n",
                "-   [TSG100 - The Big Data Cluster\n",
                "    troubleshooter](../troubleshooters/tsg100-troubleshoot-bdc.ipynb)"
            ]
        }
    ],
    "nbformat": 4,
    "nbformat_minor": 5,
    "metadata": {
        "kernelspec": {
            "name": "python3",
            "display_name": "Python 3"
        },
        "azdata": {
            "side_effects": false
        }
    }
}